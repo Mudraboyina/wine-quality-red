{
 "cells": [
  {
   "cell_type": "markdown",
   "id": "eebda217",
   "metadata": {},
   "source": [
    "importing the dataset"
   ]
  },
  {
   "cell_type": "code",
   "execution_count": 48,
   "id": "2116b66c",
   "metadata": {},
   "outputs": [],
   "source": [
    "import pandas as pd\n",
    "import numpy as np"
   ]
  },
  {
   "cell_type": "code",
   "execution_count": 49,
   "id": "318ff1e7",
   "metadata": {},
   "outputs": [],
   "source": [
    "df=pd.read_csv('https://raw.githubusercontent.com/dsrscientist/DSData/master/winequality-red.csv')"
   ]
  },
  {
   "cell_type": "code",
   "execution_count": 50,
   "id": "800c2a07",
   "metadata": {},
   "outputs": [
    {
     "data": {
      "text/plain": [
       "Index(['fixed acidity', 'volatile acidity', 'citric acid', 'residual sugar',\n",
       "       'chlorides', 'free sulfur dioxide', 'total sulfur dioxide', 'density',\n",
       "       'pH', 'sulphates', 'alcohol', 'quality'],\n",
       "      dtype='object')"
      ]
     },
     "execution_count": 50,
     "metadata": {},
     "output_type": "execute_result"
    }
   ],
   "source": [
    "df.columns"
   ]
  },
  {
   "cell_type": "code",
   "execution_count": 51,
   "id": "abb7466a",
   "metadata": {},
   "outputs": [
    {
     "data": {
      "text/html": [
       "<div>\n",
       "<style scoped>\n",
       "    .dataframe tbody tr th:only-of-type {\n",
       "        vertical-align: middle;\n",
       "    }\n",
       "\n",
       "    .dataframe tbody tr th {\n",
       "        vertical-align: top;\n",
       "    }\n",
       "\n",
       "    .dataframe thead th {\n",
       "        text-align: right;\n",
       "    }\n",
       "</style>\n",
       "<table border=\"1\" class=\"dataframe\">\n",
       "  <thead>\n",
       "    <tr style=\"text-align: right;\">\n",
       "      <th></th>\n",
       "      <th>fixed acidity</th>\n",
       "      <th>volatile acidity</th>\n",
       "      <th>citric acid</th>\n",
       "      <th>residual sugar</th>\n",
       "      <th>chlorides</th>\n",
       "      <th>free sulfur dioxide</th>\n",
       "      <th>total sulfur dioxide</th>\n",
       "      <th>density</th>\n",
       "      <th>pH</th>\n",
       "      <th>sulphates</th>\n",
       "      <th>alcohol</th>\n",
       "      <th>quality</th>\n",
       "    </tr>\n",
       "  </thead>\n",
       "  <tbody>\n",
       "    <tr>\n",
       "      <th>0</th>\n",
       "      <td>7.4</td>\n",
       "      <td>0.70</td>\n",
       "      <td>0.00</td>\n",
       "      <td>1.9</td>\n",
       "      <td>0.076</td>\n",
       "      <td>11.0</td>\n",
       "      <td>34.0</td>\n",
       "      <td>0.9978</td>\n",
       "      <td>3.51</td>\n",
       "      <td>0.56</td>\n",
       "      <td>9.4</td>\n",
       "      <td>5</td>\n",
       "    </tr>\n",
       "    <tr>\n",
       "      <th>1</th>\n",
       "      <td>7.8</td>\n",
       "      <td>0.88</td>\n",
       "      <td>0.00</td>\n",
       "      <td>2.6</td>\n",
       "      <td>0.098</td>\n",
       "      <td>25.0</td>\n",
       "      <td>67.0</td>\n",
       "      <td>0.9968</td>\n",
       "      <td>3.20</td>\n",
       "      <td>0.68</td>\n",
       "      <td>9.8</td>\n",
       "      <td>5</td>\n",
       "    </tr>\n",
       "    <tr>\n",
       "      <th>2</th>\n",
       "      <td>7.8</td>\n",
       "      <td>0.76</td>\n",
       "      <td>0.04</td>\n",
       "      <td>2.3</td>\n",
       "      <td>0.092</td>\n",
       "      <td>15.0</td>\n",
       "      <td>54.0</td>\n",
       "      <td>0.9970</td>\n",
       "      <td>3.26</td>\n",
       "      <td>0.65</td>\n",
       "      <td>9.8</td>\n",
       "      <td>5</td>\n",
       "    </tr>\n",
       "    <tr>\n",
       "      <th>3</th>\n",
       "      <td>11.2</td>\n",
       "      <td>0.28</td>\n",
       "      <td>0.56</td>\n",
       "      <td>1.9</td>\n",
       "      <td>0.075</td>\n",
       "      <td>17.0</td>\n",
       "      <td>60.0</td>\n",
       "      <td>0.9980</td>\n",
       "      <td>3.16</td>\n",
       "      <td>0.58</td>\n",
       "      <td>9.8</td>\n",
       "      <td>6</td>\n",
       "    </tr>\n",
       "    <tr>\n",
       "      <th>4</th>\n",
       "      <td>7.4</td>\n",
       "      <td>0.70</td>\n",
       "      <td>0.00</td>\n",
       "      <td>1.9</td>\n",
       "      <td>0.076</td>\n",
       "      <td>11.0</td>\n",
       "      <td>34.0</td>\n",
       "      <td>0.9978</td>\n",
       "      <td>3.51</td>\n",
       "      <td>0.56</td>\n",
       "      <td>9.4</td>\n",
       "      <td>5</td>\n",
       "    </tr>\n",
       "  </tbody>\n",
       "</table>\n",
       "</div>"
      ],
      "text/plain": [
       "   fixed acidity  volatile acidity  citric acid  residual sugar  chlorides  \\\n",
       "0            7.4              0.70         0.00             1.9      0.076   \n",
       "1            7.8              0.88         0.00             2.6      0.098   \n",
       "2            7.8              0.76         0.04             2.3      0.092   \n",
       "3           11.2              0.28         0.56             1.9      0.075   \n",
       "4            7.4              0.70         0.00             1.9      0.076   \n",
       "\n",
       "   free sulfur dioxide  total sulfur dioxide  density    pH  sulphates  \\\n",
       "0                 11.0                  34.0   0.9978  3.51       0.56   \n",
       "1                 25.0                  67.0   0.9968  3.20       0.68   \n",
       "2                 15.0                  54.0   0.9970  3.26       0.65   \n",
       "3                 17.0                  60.0   0.9980  3.16       0.58   \n",
       "4                 11.0                  34.0   0.9978  3.51       0.56   \n",
       "\n",
       "   alcohol  quality  \n",
       "0      9.4        5  \n",
       "1      9.8        5  \n",
       "2      9.8        5  \n",
       "3      9.8        6  \n",
       "4      9.4        5  "
      ]
     },
     "execution_count": 51,
     "metadata": {},
     "output_type": "execute_result"
    }
   ],
   "source": [
    "df.head()"
   ]
  },
  {
   "cell_type": "markdown",
   "id": "fbafcb25",
   "metadata": {},
   "source": [
    "checking null values in the dataframe"
   ]
  },
  {
   "cell_type": "code",
   "execution_count": 52,
   "id": "71e75329",
   "metadata": {},
   "outputs": [
    {
     "data": {
      "text/plain": [
       "fixed acidity           0\n",
       "volatile acidity        0\n",
       "citric acid             0\n",
       "residual sugar          0\n",
       "chlorides               0\n",
       "free sulfur dioxide     0\n",
       "total sulfur dioxide    0\n",
       "density                 0\n",
       "pH                      0\n",
       "sulphates               0\n",
       "alcohol                 0\n",
       "quality                 0\n",
       "dtype: int64"
      ]
     },
     "execution_count": 52,
     "metadata": {},
     "output_type": "execute_result"
    }
   ],
   "source": [
    "df.isna().sum()"
   ]
  },
  {
   "cell_type": "code",
   "execution_count": 53,
   "id": "9f36b240",
   "metadata": {},
   "outputs": [
    {
     "data": {
      "text/plain": [
       "Index(['fixed acidity', 'volatile acidity', 'citric acid', 'residual sugar',\n",
       "       'chlorides', 'free sulfur dioxide', 'total sulfur dioxide', 'density',\n",
       "       'pH', 'sulphates', 'alcohol', 'quality'],\n",
       "      dtype='object')"
      ]
     },
     "execution_count": 53,
     "metadata": {},
     "output_type": "execute_result"
    }
   ],
   "source": [
    "df.columns"
   ]
  },
  {
   "cell_type": "code",
   "execution_count": 54,
   "id": "fcd66e95",
   "metadata": {},
   "outputs": [
    {
     "data": {
      "text/plain": [
       "int"
      ]
     },
     "execution_count": 54,
     "metadata": {},
     "output_type": "execute_result"
    }
   ],
   "source": [
    " a=8\n",
    "type(a)"
   ]
  },
  {
   "cell_type": "code",
   "execution_count": 55,
   "id": "336d71f1",
   "metadata": {},
   "outputs": [
    {
     "data": {
      "text/plain": [
       "str"
      ]
     },
     "execution_count": 55,
     "metadata": {},
     "output_type": "execute_result"
    }
   ],
   "source": [
    "b='8'\n",
    "type(b)"
   ]
  },
  {
   "cell_type": "code",
   "execution_count": 56,
   "id": "6fdb21b6",
   "metadata": {},
   "outputs": [
    {
     "data": {
      "text/plain": [
       "str"
      ]
     },
     "execution_count": 56,
     "metadata": {},
     "output_type": "execute_result"
    }
   ],
   "source": [
    "#figure in quality\n",
    "quality='8'\n",
    "#type(quality)\n",
    "\n",
    "f=quality\n",
    "type(f)"
   ]
  },
  {
   "cell_type": "markdown",
   "id": "f13c40d7",
   "metadata": {},
   "source": [
    "checking the data types of columns."
   ]
  },
  {
   "cell_type": "code",
   "execution_count": 57,
   "id": "0150924d",
   "metadata": {},
   "outputs": [
    {
     "data": {
      "text/plain": [
       "fixed acidity           float64\n",
       "volatile acidity        float64\n",
       "citric acid             float64\n",
       "residual sugar          float64\n",
       "chlorides               float64\n",
       "free sulfur dioxide     float64\n",
       "total sulfur dioxide    float64\n",
       "density                 float64\n",
       "pH                      float64\n",
       "sulphates               float64\n",
       "alcohol                 float64\n",
       "quality                   int64\n",
       "dtype: object"
      ]
     },
     "execution_count": 57,
     "metadata": {},
     "output_type": "execute_result"
    }
   ],
   "source": [
    "df.dtypes"
   ]
  },
  {
   "cell_type": "code",
   "execution_count": 58,
   "id": "1cc14be2",
   "metadata": {},
   "outputs": [
    {
     "data": {
      "text/plain": [
       "fixed acidity           float64\n",
       "volatile acidity        float64\n",
       "citric acid             float64\n",
       "residual sugar          float64\n",
       "chlorides               float64\n",
       "free sulfur dioxide     float64\n",
       "total sulfur dioxide    float64\n",
       "density                 float64\n",
       "pH                      float64\n",
       "sulphates               float64\n",
       "alcohol                 float64\n",
       "quality                   int64\n",
       "dtype: object"
      ]
     },
     "execution_count": 58,
     "metadata": {},
     "output_type": "execute_result"
    }
   ],
   "source": [
    "df.dtypes"
   ]
  },
  {
   "cell_type": "code",
   "execution_count": 59,
   "id": "7dae41eb",
   "metadata": {},
   "outputs": [
    {
     "data": {
      "text/plain": [
       "array([5, 6, 7, 4, 8, 3], dtype=int64)"
      ]
     },
     "execution_count": 59,
     "metadata": {},
     "output_type": "execute_result"
    }
   ],
   "source": [
    "df['quality'].unique()"
   ]
  },
  {
   "cell_type": "code",
   "execution_count": 60,
   "id": "9c1a8ce9",
   "metadata": {},
   "outputs": [
    {
     "data": {
      "text/plain": [
       "array([5, 6, 7, 4, 8, 3], dtype=int64)"
      ]
     },
     "execution_count": 60,
     "metadata": {},
     "output_type": "execute_result"
    }
   ],
   "source": [
    "df['quality'].unique()"
   ]
  },
  {
   "cell_type": "code",
   "execution_count": 61,
   "id": "d6544234",
   "metadata": {},
   "outputs": [
    {
     "data": {
      "text/plain": [
       "1599"
      ]
     },
     "execution_count": 61,
     "metadata": {},
     "output_type": "execute_result"
    }
   ],
   "source": [
    "df.shape[0]"
   ]
  },
  {
   "cell_type": "code",
   "execution_count": 62,
   "id": "2c2629cd",
   "metadata": {},
   "outputs": [
    {
     "data": {
      "text/html": [
       "<div>\n",
       "<style scoped>\n",
       "    .dataframe tbody tr th:only-of-type {\n",
       "        vertical-align: middle;\n",
       "    }\n",
       "\n",
       "    .dataframe tbody tr th {\n",
       "        vertical-align: top;\n",
       "    }\n",
       "\n",
       "    .dataframe thead th {\n",
       "        text-align: right;\n",
       "    }\n",
       "</style>\n",
       "<table border=\"1\" class=\"dataframe\">\n",
       "  <thead>\n",
       "    <tr style=\"text-align: right;\">\n",
       "      <th></th>\n",
       "      <th>fixed acidity</th>\n",
       "      <th>volatile acidity</th>\n",
       "      <th>citric acid</th>\n",
       "      <th>residual sugar</th>\n",
       "      <th>chlorides</th>\n",
       "      <th>free sulfur dioxide</th>\n",
       "      <th>total sulfur dioxide</th>\n",
       "      <th>density</th>\n",
       "      <th>pH</th>\n",
       "      <th>sulphates</th>\n",
       "      <th>alcohol</th>\n",
       "      <th>quality</th>\n",
       "    </tr>\n",
       "  </thead>\n",
       "  <tbody>\n",
       "  </tbody>\n",
       "</table>\n",
       "</div>"
      ],
      "text/plain": [
       "Empty DataFrame\n",
       "Columns: [fixed acidity, volatile acidity, citric acid, residual sugar, chlorides, free sulfur dioxide, total sulfur dioxide, density, pH, sulphates, alcohol, quality]\n",
       "Index: []"
      ]
     },
     "execution_count": 62,
     "metadata": {},
     "output_type": "execute_result"
    }
   ],
   "source": [
    "df.loc[df['quality']==\" \"]"
   ]
  },
  {
   "cell_type": "markdown",
   "id": "d0a224fd",
   "metadata": {},
   "source": [
    "after some observations we saw the some columns have space as the value"
   ]
  },
  {
   "cell_type": "code",
   "execution_count": 64,
   "id": "7a7e8480",
   "metadata": {},
   "outputs": [],
   "source": [
    "df[\"quality\"]=df[\"quality\"].replace(\" \",np.nan)"
   ]
  },
  {
   "cell_type": "code",
   "execution_count": 65,
   "id": "24926331",
   "metadata": {},
   "outputs": [
    {
     "data": {
      "text/plain": [
       "fixed acidity           0\n",
       "volatile acidity        0\n",
       "citric acid             0\n",
       "residual sugar          0\n",
       "chlorides               0\n",
       "free sulfur dioxide     0\n",
       "total sulfur dioxide    0\n",
       "density                 0\n",
       "pH                      0\n",
       "sulphates               0\n",
       "alcohol                 0\n",
       "quality                 0\n",
       "dtype: int64"
      ]
     },
     "execution_count": 65,
     "metadata": {},
     "output_type": "execute_result"
    }
   ],
   "source": [
    "df.isna().sum()"
   ]
  },
  {
   "cell_type": "markdown",
   "id": "9717f5e7",
   "metadata": {},
   "source": [
    "converting the column type from object to float"
   ]
  },
  {
   "cell_type": "code",
   "execution_count": 66,
   "id": "b53a00e1",
   "metadata": {},
   "outputs": [],
   "source": [
    "df[\"quality\"]=df[\"quality\"].astype(float)"
   ]
  },
  {
   "cell_type": "code",
   "execution_count": 67,
   "id": "4ee452c0",
   "metadata": {},
   "outputs": [
    {
     "data": {
      "text/plain": [
       "dtype('float64')"
      ]
     },
     "execution_count": 67,
     "metadata": {},
     "output_type": "execute_result"
    }
   ],
   "source": [
    "df.quality.dtype"
   ]
  },
  {
   "cell_type": "markdown",
   "id": "0ee538a8",
   "metadata": {},
   "source": [
    "now we can see quality columns has some space values which is replaced by nan values.now we will handlethe nan values"
   ]
  },
  {
   "cell_type": "markdown",
   "id": "df9a4c24",
   "metadata": {},
   "source": [
    "handling the nan values and replacing with mean of the columns.as the continuous in nature"
   ]
  },
  {
   "cell_type": "code",
   "execution_count": 68,
   "id": "faf4fb4d",
   "metadata": {},
   "outputs": [
    {
     "data": {
      "text/plain": [
       "5.6360225140712945"
      ]
     },
     "execution_count": 68,
     "metadata": {},
     "output_type": "execute_result"
    }
   ],
   "source": [
    "np.mean(df[\"quality\"])"
   ]
  },
  {
   "cell_type": "code",
   "execution_count": 35,
   "id": "aa9cc999",
   "metadata": {},
   "outputs": [
    {
     "data": {
      "text/plain": [
       "fixed acidity            7.50000\n",
       "volatile acidity         0.72500\n",
       "citric acid              0.04000\n",
       "residual sugar           1.50000\n",
       "chlorides                0.07600\n",
       "free sulfur dioxide      8.00000\n",
       "total sulfur dioxide    15.00000\n",
       "density                  0.99508\n",
       "pH                       3.26000\n",
       "sulphates                0.53000\n",
       "alcohol                  9.60000\n",
       "quality                  5.00000\n",
       "Name: 1500, dtype: float64"
      ]
     },
     "execution_count": 35,
     "metadata": {},
     "output_type": "execute_result"
    }
   ],
   "source": [
    "df.iloc[1500,:]"
   ]
  },
  {
   "cell_type": "code",
   "execution_count": 69,
   "id": "fcf96a11",
   "metadata": {},
   "outputs": [],
   "source": [
    "df[\"quality\"] = df[\"quality\"].fillna(np.mean(df[\"quality\"]))"
   ]
  },
  {
   "cell_type": "code",
   "execution_count": 38,
   "id": "d835e20b",
   "metadata": {},
   "outputs": [
    {
     "data": {
      "text/plain": [
       "fixed acidity            7.50000\n",
       "volatile acidity         0.72500\n",
       "citric acid              0.04000\n",
       "residual sugar           1.50000\n",
       "chlorides                0.07600\n",
       "free sulfur dioxide      8.00000\n",
       "total sulfur dioxide    15.00000\n",
       "density                  0.99508\n",
       "pH                       3.26000\n",
       "sulphates                0.53000\n",
       "alcohol                  9.60000\n",
       "quality                  5.00000\n",
       "Name: 1500, dtype: float64"
      ]
     },
     "execution_count": 38,
     "metadata": {},
     "output_type": "execute_result"
    }
   ],
   "source": [
    "df.iloc[1500,:]"
   ]
  },
  {
   "cell_type": "code",
   "execution_count": 70,
   "id": "800edf5d",
   "metadata": {},
   "outputs": [
    {
     "data": {
      "text/plain": [
       "fixed acidity           0\n",
       "volatile acidity        0\n",
       "citric acid             0\n",
       "residual sugar          0\n",
       "chlorides               0\n",
       "free sulfur dioxide     0\n",
       "total sulfur dioxide    0\n",
       "density                 0\n",
       "pH                      0\n",
       "sulphates               0\n",
       "alcohol                 0\n",
       "quality                 0\n",
       "dtype: int64"
      ]
     },
     "execution_count": 70,
     "metadata": {},
     "output_type": "execute_result"
    }
   ],
   "source": [
    "df.isnull().sum()"
   ]
  },
  {
   "cell_type": "code",
   "execution_count": 71,
   "id": "70e378e3",
   "metadata": {},
   "outputs": [
    {
     "data": {
      "text/plain": [
       "fixed acidity           float64\n",
       "volatile acidity        float64\n",
       "citric acid             float64\n",
       "residual sugar          float64\n",
       "chlorides               float64\n",
       "free sulfur dioxide     float64\n",
       "total sulfur dioxide    float64\n",
       "density                 float64\n",
       "pH                      float64\n",
       "sulphates               float64\n",
       "alcohol                 float64\n",
       "quality                 float64\n",
       "dtype: object"
      ]
     },
     "execution_count": 71,
     "metadata": {},
     "output_type": "execute_result"
    }
   ],
   "source": [
    "df.dtypes"
   ]
  },
  {
   "cell_type": "markdown",
   "id": "668aa6ea",
   "metadata": {},
   "source": [
    "making dataframe for the nominal data"
   ]
  },
  {
   "cell_type": "code",
   "execution_count": 72,
   "id": "702254fb",
   "metadata": {},
   "outputs": [],
   "source": [
    "df_visualization_nominal=df[['fixed acidity', 'volatile acidity', 'citric acid', 'residual sugar',\n",
    "       'chlorides', 'free sulfur dioxide', 'total sulfur dioxide', 'density',\n",
    "       'pH', 'sulphates', 'alcohol']].copy()"
   ]
  },
  {
   "cell_type": "code",
   "execution_count": 73,
   "id": "0b9e9a65",
   "metadata": {},
   "outputs": [
    {
     "data": {
      "text/plain": [
       "Index(['fixed acidity', 'volatile acidity', 'citric acid', 'residual sugar',\n",
       "       'chlorides', 'free sulfur dioxide', 'total sulfur dioxide', 'density',\n",
       "       'pH', 'sulphates', 'alcohol'],\n",
       "      dtype='object')"
      ]
     },
     "execution_count": 73,
     "metadata": {},
     "output_type": "execute_result"
    }
   ],
   "source": [
    "df_visualization_nominal.columns"
   ]
  },
  {
   "cell_type": "markdown",
   "id": "6fe79d27",
   "metadata": {},
   "source": [
    "visualization of the data:"
   ]
  },
  {
   "cell_type": "markdown",
   "id": "a77fbe7a",
   "metadata": {},
   "source": [
    "for the nominal categorical data we will use countplot as it will give the frequancy of the classes of the columns:"
   ]
  },
  {
   "cell_type": "code",
   "execution_count": 74,
   "id": "87a6c175",
   "metadata": {},
   "outputs": [],
   "source": [
    "import seaborn as sns"
   ]
  },
  {
   "cell_type": "code",
   "execution_count": 75,
   "id": "8d178733",
   "metadata": {},
   "outputs": [
    {
     "name": "stdout",
     "output_type": "stream",
     "text": [
      "7.2     67\n",
      "7.1     57\n",
      "7.8     53\n",
      "7.5     52\n",
      "7.0     50\n",
      "        ..\n",
      "13.5     1\n",
      "13.8     1\n",
      "13.4     1\n",
      "4.7      1\n",
      "5.5      1\n",
      "Name: fixed acidity, Length: 96, dtype: int64\n"
     ]
    },
    {
     "data": {
      "image/png": "[encoded data removed]",
      "text/plain": [
       "<Figure size 432x288 with 1 Axes>"
      ]
     },
     "metadata": {
      "needs_background": "light"
     },
     "output_type": "display_data"
    }
   ],
   "source": [
    "ax = sns.countplot(x=\"fixed acidity\", data=df_visualization_nominal)\n",
    "print(df_visualization_nominal[\"fixed acidity\"].value_counts())"
   ]
  },
  {
   "cell_type": "markdown",
   "id": "405b0977",
   "metadata": {},
   "source": [
    "from above observation the fixed acidity 7.2 the value 67 and 7.0 the value 50"
   ]
  },
  {
   "cell_type": "code",
   "execution_count": 76,
   "id": "1b6ddd91",
   "metadata": {},
   "outputs": [
    {
     "name": "stdout",
     "output_type": "stream",
     "text": [
      "0.600    47\n",
      "0.500    46\n",
      "0.430    43\n",
      "0.590    39\n",
      "0.360    38\n",
      "         ..\n",
      "1.035     1\n",
      "0.565     1\n",
      "1.130     1\n",
      "1.115     1\n",
      "1.090     1\n",
      "Name: volatile acidity, Length: 143, dtype: int64\n"
     ]
    },
    {
     "data": {
      "image/png": "[encoded data removed]",
      "text/plain": [
       "<Figure size 432x288 with 1 Axes>"
      ]
     },
     "metadata": {
      "needs_background": "light"
     },
     "output_type": "display_data"
    }
   ],
   "source": [
    "ax = sns.countplot(x=\"volatile acidity\", data=df_visualization_nominal)\n",
    "print(df_visualization_nominal[\"volatile acidity\"].value_counts())"
   ]
  },
  {
   "cell_type": "markdown",
   "id": "5da1e165",
   "metadata": {},
   "source": [
    "from above observation the volatile acidity 0.6 the value is 47 and 0.36 the value 38"
   ]
  },
  {
   "cell_type": "code",
   "execution_count": 77,
   "id": "0ec4e991",
   "metadata": {},
   "outputs": [
    {
     "name": "stdout",
     "output_type": "stream",
     "text": [
      "0.00    132\n",
      "0.49     68\n",
      "0.24     51\n",
      "0.02     50\n",
      "0.26     38\n",
      "       ... \n",
      "0.72      1\n",
      "0.62      1\n",
      "0.75      1\n",
      "1.00      1\n",
      "0.78      1\n",
      "Name: citric acid, Length: 80, dtype: int64\n"
     ]
    },
    {
     "data": {
      "image/png": "[encoded data removed]",
      "text/plain": [
       "<Figure size 432x288 with 1 Axes>"
      ]
     },
     "metadata": {
      "needs_background": "light"
     },
     "output_type": "display_data"
    }
   ],
   "source": [
    "ax = sns.countplot(x=\"citric acid\", data=df_visualization_nominal)\n",
    "print(df_visualization_nominal[\"citric acid\"].value_counts())"
   ]
  },
  {
   "cell_type": "markdown",
   "id": "ceccb9b4",
   "metadata": {},
   "source": [
    "from above observation the citric acid 0 the value is 132 and 0.26 the value 38"
   ]
  },
  {
   "cell_type": "code",
   "execution_count": 78,
   "id": "8395af4b",
   "metadata": {},
   "outputs": [
    {
     "name": "stdout",
     "output_type": "stream",
     "text": [
      "2.00     156\n",
      "2.20     131\n",
      "1.80     129\n",
      "2.10     128\n",
      "1.90     117\n",
      "        ... \n",
      "4.25       1\n",
      "2.85       1\n",
      "3.45       1\n",
      "2.35       1\n",
      "13.90      1\n",
      "Name: residual sugar, Length: 91, dtype: int64\n"
     ]
    },
    {
     "data": {
      "image/png": "[encoded data removed]",
      "text/plain": [
       "<Figure size 432x288 with 1 Axes>"
      ]
     },
     "metadata": {
      "needs_background": "light"
     },
     "output_type": "display_data"
    }
   ],
   "source": [
    "ax = sns.countplot(x=\"residual sugar\", data=df_visualization_nominal)\n",
    "print(df_visualization_nominal[\"residual sugar\"].value_counts())"
   ]
  },
  {
   "cell_type": "markdown",
   "id": "a376b22f",
   "metadata": {},
   "source": [
    "from above observation the residual sugar 2.00 the value is 156 and 1.90 the value 117"
   ]
  },
  {
   "cell_type": "code",
   "execution_count": 79,
   "id": "ccb84571",
   "metadata": {},
   "outputs": [
    {
     "name": "stdout",
     "output_type": "stream",
     "text": [
      "0.080    66\n",
      "0.074    55\n",
      "0.076    51\n",
      "0.078    51\n",
      "0.084    49\n",
      "         ..\n",
      "0.108     1\n",
      "0.148     1\n",
      "0.143     1\n",
      "0.222     1\n",
      "0.230     1\n",
      "Name: chlorides, Length: 153, dtype: int64\n"
     ]
    },
    {
     "data": {
      "image/png": "[encoded data removed]",
      "text/plain": [
       "<Figure size 432x288 with 1 Axes>"
      ]
     },
     "metadata": {
      "needs_background": "light"
     },
     "output_type": "display_data"
    }
   ],
   "source": [
    "ax = sns.countplot(x=\"chlorides\", data=df_visualization_nominal)\n",
    "print(df_visualization_nominal[\"chlorides\"].value_counts())"
   ]
  },
  {
   "cell_type": "markdown",
   "id": "1ffd5ff2",
   "metadata": {},
   "source": [
    "from above observation the chlorides 0.080 the value is 66 and 0.084 the value 49"
   ]
  },
  {
   "cell_type": "code",
   "execution_count": 80,
   "id": "33cb633d",
   "metadata": {},
   "outputs": [
    {
     "name": "stdout",
     "output_type": "stream",
     "text": [
      "6.0     138\n",
      "5.0     104\n",
      "10.0     79\n",
      "15.0     78\n",
      "12.0     75\n",
      "7.0      71\n",
      "9.0      62\n",
      "16.0     61\n",
      "17.0     60\n",
      "11.0     59\n",
      "13.0     57\n",
      "8.0      56\n",
      "14.0     50\n",
      "3.0      49\n",
      "18.0     46\n",
      "4.0      41\n",
      "21.0     41\n",
      "19.0     39\n",
      "24.0     34\n",
      "26.0     32\n",
      "23.0     32\n",
      "20.0     30\n",
      "27.0     29\n",
      "25.0     24\n",
      "29.0     23\n",
      "28.0     23\n",
      "22.0     22\n",
      "32.0     22\n",
      "31.0     20\n",
      "34.0     18\n",
      "30.0     16\n",
      "35.0     15\n",
      "36.0     11\n",
      "33.0     11\n",
      "38.0      9\n",
      "41.0      7\n",
      "40.0      6\n",
      "39.0      5\n",
      "48.0      4\n",
      "51.0      4\n",
      "45.0      3\n",
      "1.0       3\n",
      "43.0      3\n",
      "42.0      3\n",
      "52.0      3\n",
      "37.0      3\n",
      "68.0      2\n",
      "55.0      2\n",
      "50.0      2\n",
      "37.5      2\n",
      "53.0      1\n",
      "72.0      1\n",
      "57.0      1\n",
      "47.0      1\n",
      "5.5       1\n",
      "2.0       1\n",
      "46.0      1\n",
      "54.0      1\n",
      "40.5      1\n",
      "66.0      1\n",
      "Name: free sulfur dioxide, dtype: int64\n"
     ]
    },
    {
     "data": {
      "image/png": "[encoded data removed]",
      "text/plain": [
       "<Figure size 432x288 with 1 Axes>"
      ]
     },
     "metadata": {
      "needs_background": "light"
     },
     "output_type": "display_data"
    }
   ],
   "source": [
    "ax = sns.countplot(x=\"free sulfur dioxide\", data=df_visualization_nominal)\n",
    "print(df_visualization_nominal[\"free sulfur dioxide\"].value_counts())"
   ]
  },
  {
   "cell_type": "markdown",
   "id": "ae5548ec",
   "metadata": {},
   "source": [
    "from above observation the free sulfur dioxide 6.0 the value is 138 and 66.0 the value 1"
   ]
  },
  {
   "cell_type": "code",
   "execution_count": 81,
   "id": "70031280",
   "metadata": {},
   "outputs": [
    {
     "name": "stdout",
     "output_type": "stream",
     "text": [
      "28.0     43\n",
      "24.0     36\n",
      "15.0     35\n",
      "18.0     35\n",
      "23.0     34\n",
      "         ..\n",
      "139.0     1\n",
      "149.0     1\n",
      "152.0     1\n",
      "155.0     1\n",
      "165.0     1\n",
      "Name: total sulfur dioxide, Length: 144, dtype: int64\n"
     ]
    },
    {
     "data": {
      "image/png": "[encoded data removed]",
      "text/plain": [
       "<Figure size 432x288 with 1 Axes>"
      ]
     },
     "metadata": {
      "needs_background": "light"
     },
     "output_type": "display_data"
    }
   ],
   "source": [
    "ax = sns.countplot(x=\"total sulfur dioxide\", data=df_visualization_nominal)\n",
    "print(df_visualization_nominal[\"total sulfur dioxide\"].value_counts())"
   ]
  },
  {
   "cell_type": "markdown",
   "id": "7d9519aa",
   "metadata": {},
   "source": [
    "from above observation the total sulfur dioxide 28.0 the value is 43 and 23 the value 34"
   ]
  },
  {
   "cell_type": "code",
   "execution_count": 82,
   "id": "150b5bf5",
   "metadata": {},
   "outputs": [
    {
     "name": "stdout",
     "output_type": "stream",
     "text": [
      "0.99720    36\n",
      "0.99680    35\n",
      "0.99760    35\n",
      "0.99800    29\n",
      "0.99620    28\n",
      "           ..\n",
      "0.99684     1\n",
      "0.99764     1\n",
      "0.99473     1\n",
      "0.99320     1\n",
      "0.99651     1\n",
      "Name: density, Length: 436, dtype: int64\n"
     ]
    },
    {
     "data": {
      "image/png": "[encoded data removed]",
      "text/plain": [
       "<Figure size 432x288 with 1 Axes>"
      ]
     },
     "metadata": {
      "needs_background": "light"
     },
     "output_type": "display_data"
    }
   ],
   "source": [
    "ax = sns.countplot(x=\"density\", data=df_visualization_nominal)\n",
    "print(df_visualization_nominal[\"density\"].value_counts())"
   ]
  },
  {
   "cell_type": "markdown",
   "id": "e6ea031a",
   "metadata": {},
   "source": [
    "from above observation the density 0.99720 the value is 36 and 0.99620 the value 28"
   ]
  },
  {
   "cell_type": "code",
   "execution_count": 57,
   "id": "da261025",
   "metadata": {},
   "outputs": [
    {
     "name": "stdout",
     "output_type": "stream",
     "text": [
      "3.30    57\n",
      "3.36    56\n",
      "3.26    53\n",
      "3.38    48\n",
      "3.39    48\n",
      "        ..\n",
      "3.75     1\n",
      "2.74     1\n",
      "3.70     1\n",
      "3.85     1\n",
      "2.90     1\n",
      "Name: pH, Length: 89, dtype: int64\n"
     ]
    },
    {
     "data": {
      "image/png": "[encoded data removed]",
      "text/plain": [
       "<Figure size 432x288 with 1 Axes>"
      ]
     },
     "metadata": {
      "needs_background": "light"
     },
     "output_type": "display_data"
    }
   ],
   "source": [
    "ax = sns.countplot(x=\"pH\", data=df_visualization_nominal)\n",
    "print(df_visualization_nominal[\"pH\"].value_counts())"
   ]
  },
  {
   "cell_type": "code",
   "execution_count": null,
   "id": "5f25635f",
   "metadata": {},
   "outputs": [],
   "source": [
    "from above observation the pH 3.30 the value is 57 and 3.39 the value 48"
   ]
  },
  {
   "cell_type": "code",
   "execution_count": 83,
   "id": "25fc2209",
   "metadata": {},
   "outputs": [
    {
     "name": "stdout",
     "output_type": "stream",
     "text": [
      "0.60    69\n",
      "0.58    68\n",
      "0.54    68\n",
      "0.62    61\n",
      "0.56    60\n",
      "        ..\n",
      "1.00     1\n",
      "1.59     1\n",
      "0.33     1\n",
      "1.26     1\n",
      "1.01     1\n",
      "Name: sulphates, Length: 96, dtype: int64\n"
     ]
    },
    {
     "data": {
      "image/png": "[encoded data removed]",
      "text/plain": [
       "<Figure size 432x288 with 1 Axes>"
      ]
     },
     "metadata": {
      "needs_background": "light"
     },
     "output_type": "display_data"
    }
   ],
   "source": [
    "ax = sns.countplot(x=\"sulphates\", data=df_visualization_nominal)\n",
    "print(df_visualization_nominal[\"sulphates\"].value_counts())"
   ]
  },
  {
   "cell_type": "markdown",
   "id": "3f9f23fa",
   "metadata": {},
   "source": [
    "from above observation the sulphates 0.60 the value is 69 and 0.56 the value 60"
   ]
  },
  {
   "cell_type": "code",
   "execution_count": 59,
   "id": "19756b50",
   "metadata": {},
   "outputs": [
    {
     "name": "stdout",
     "output_type": "stream",
     "text": [
      "9.500000     139\n",
      "9.400000     103\n",
      "9.800000      78\n",
      "9.200000      72\n",
      "10.000000     67\n",
      "            ... \n",
      "9.950000       1\n",
      "9.233333       1\n",
      "9.250000       1\n",
      "9.050000       1\n",
      "10.750000      1\n",
      "Name: alcohol, Length: 65, dtype: int64\n"
     ]
    },
    {
     "data": {
      "image/png": "[encoded data removed]",
      "text/plain": [
       "<Figure size 432x288 with 1 Axes>"
      ]
     },
     "metadata": {
      "needs_background": "light"
     },
     "output_type": "display_data"
    }
   ],
   "source": [
    "ax = sns.countplot(x=\"alcohol\", data=df_visualization_nominal)\n",
    "print(df_visualization_nominal[\"alcohol\"].value_counts())"
   ]
  },
  {
   "cell_type": "markdown",
   "id": "96405878",
   "metadata": {},
   "source": [
    "from above observation the alcohol 9.5 the value is 139 and 10.00 the value 67"
   ]
  },
  {
   "cell_type": "markdown",
   "id": "8f3491ae",
   "metadata": {},
   "source": [
    "making dataframe of the ordinal data"
   ]
  },
  {
   "cell_type": "code",
   "execution_count": 84,
   "id": "132695b2",
   "metadata": {},
   "outputs": [],
   "source": [
    "df_visuvalization_ordinal=df[[\"fixed acidity\",\"volatile acidity\"]].copy()"
   ]
  },
  {
   "cell_type": "code",
   "execution_count": 85,
   "id": "4aa491fe",
   "metadata": {},
   "outputs": [
    {
     "data": {
      "text/plain": [
       "<seaborn.axisgrid.FacetGrid at 0x18bf317c850>"
      ]
     },
     "execution_count": 85,
     "metadata": {},
     "output_type": "execute_result"
    },
    {
     "data": {
      "image/png": "[encoded data removed]",
      "text/plain": [
       "<Figure size 360x360 with 1 Axes>"
      ]
     },
     "metadata": {
      "needs_background": "light"
     },
     "output_type": "display_data"
    }
   ],
   "source": [
    "sns.catplot(x=\"fixed acidity\",y=\"volatile acidity\",data=df)"
   ]
  },
  {
   "cell_type": "markdown",
   "id": "2d31af32",
   "metadata": {},
   "source": [
    "checking the distribution of the continuous value of the float type columns"
   ]
  },
  {
   "cell_type": "code",
   "execution_count": 86,
   "id": "aec8248a",
   "metadata": {},
   "outputs": [],
   "source": [
    "df_visualization_continuous=df[[\"fixed acidity\",\"quality\"]].copy()"
   ]
  },
  {
   "cell_type": "code",
   "execution_count": 87,
   "id": "2be743a5",
   "metadata": {},
   "outputs": [
    {
     "data": {
      "text/plain": [
       "<seaborn.axisgrid.FacetGrid at 0x18bf13b42b0>"
      ]
     },
     "execution_count": 87,
     "metadata": {},
     "output_type": "execute_result"
    },
    {
     "data": {
      "image/png": "[encoded data removed]",
      "text/plain": [
       "<Figure size 360x360 with 1 Axes>"
      ]
     },
     "metadata": {
      "needs_background": "light"
     },
     "output_type": "display_data"
    }
   ],
   "source": [
    "import seaborn as sns \n",
    "sns.displot(df_visualization_continuous['quality'], kde=True)"
   ]
  },
  {
   "cell_type": "code",
   "execution_count": 88,
   "id": "a3d39ee7",
   "metadata": {},
   "outputs": [
    {
     "data": {
      "text/plain": [
       "<seaborn.axisgrid.FacetGrid at 0x18bf2ea6e20>"
      ]
     },
     "execution_count": 88,
     "metadata": {},
     "output_type": "execute_result"
    },
    {
     "data": {
      "image/png": "[encoded data removed]",
      "text/plain": [
       "<Figure size 360x360 with 1 Axes>"
      ]
     },
     "metadata": {
      "needs_background": "light"
     },
     "output_type": "display_data"
    }
   ],
   "source": [
    "sns.displot(df_visualization_continuous['fixed acidity'], kde=True)"
   ]
  },
  {
   "cell_type": "markdown",
   "id": "5896dd23",
   "metadata": {},
   "source": [
    "visualization part is completed"
   ]
  },
  {
   "cell_type": "markdown",
   "id": "9a3a5900",
   "metadata": {},
   "source": [
    "Encoding of DataFrame"
   ]
  },
  {
   "cell_type": "code",
   "execution_count": 89,
   "id": "6f35205b",
   "metadata": {},
   "outputs": [],
   "source": [
    "from sklearn.preprocessing import OrdinalEncoder\n",
    "enc=OrdinalEncoder()"
   ]
  },
  {
   "cell_type": "code",
   "execution_count": 90,
   "id": "48eaf60b",
   "metadata": {},
   "outputs": [],
   "source": [
    "for i in df.columns:\n",
    "    if df[i].dtypes==\"object\":\n",
    "        df[i]=enc.fit_transform(df[i].values.reshape(-1,1))"
   ]
  },
  {
   "cell_type": "code",
   "execution_count": 91,
   "id": "62c63487",
   "metadata": {},
   "outputs": [
    {
     "data": {
      "text/html": [
       "<div>\n",
       "<style scoped>\n",
       "    .dataframe tbody tr th:only-of-type {\n",
       "        vertical-align: middle;\n",
       "    }\n",
       "\n",
       "    .dataframe tbody tr th {\n",
       "        vertical-align: top;\n",
       "    }\n",
       "\n",
       "    .dataframe thead th {\n",
       "        text-align: right;\n",
       "    }\n",
       "</style>\n",
       "<table border=\"1\" class=\"dataframe\">\n",
       "  <thead>\n",
       "    <tr style=\"text-align: right;\">\n",
       "      <th></th>\n",
       "      <th>fixed acidity</th>\n",
       "      <th>volatile acidity</th>\n",
       "      <th>citric acid</th>\n",
       "      <th>residual sugar</th>\n",
       "      <th>chlorides</th>\n",
       "      <th>free sulfur dioxide</th>\n",
       "      <th>total sulfur dioxide</th>\n",
       "      <th>density</th>\n",
       "      <th>pH</th>\n",
       "      <th>sulphates</th>\n",
       "      <th>alcohol</th>\n",
       "      <th>quality</th>\n",
       "    </tr>\n",
       "  </thead>\n",
       "  <tbody>\n",
       "    <tr>\n",
       "      <th>0</th>\n",
       "      <td>7.4</td>\n",
       "      <td>0.700</td>\n",
       "      <td>0.00</td>\n",
       "      <td>1.9</td>\n",
       "      <td>0.076</td>\n",
       "      <td>11.0</td>\n",
       "      <td>34.0</td>\n",
       "      <td>0.99780</td>\n",
       "      <td>3.51</td>\n",
       "      <td>0.56</td>\n",
       "      <td>9.4</td>\n",
       "      <td>5.0</td>\n",
       "    </tr>\n",
       "    <tr>\n",
       "      <th>1</th>\n",
       "      <td>7.8</td>\n",
       "      <td>0.880</td>\n",
       "      <td>0.00</td>\n",
       "      <td>2.6</td>\n",
       "      <td>0.098</td>\n",
       "      <td>25.0</td>\n",
       "      <td>67.0</td>\n",
       "      <td>0.99680</td>\n",
       "      <td>3.20</td>\n",
       "      <td>0.68</td>\n",
       "      <td>9.8</td>\n",
       "      <td>5.0</td>\n",
       "    </tr>\n",
       "    <tr>\n",
       "      <th>2</th>\n",
       "      <td>7.8</td>\n",
       "      <td>0.760</td>\n",
       "      <td>0.04</td>\n",
       "      <td>2.3</td>\n",
       "      <td>0.092</td>\n",
       "      <td>15.0</td>\n",
       "      <td>54.0</td>\n",
       "      <td>0.99700</td>\n",
       "      <td>3.26</td>\n",
       "      <td>0.65</td>\n",
       "      <td>9.8</td>\n",
       "      <td>5.0</td>\n",
       "    </tr>\n",
       "    <tr>\n",
       "      <th>3</th>\n",
       "      <td>11.2</td>\n",
       "      <td>0.280</td>\n",
       "      <td>0.56</td>\n",
       "      <td>1.9</td>\n",
       "      <td>0.075</td>\n",
       "      <td>17.0</td>\n",
       "      <td>60.0</td>\n",
       "      <td>0.99800</td>\n",
       "      <td>3.16</td>\n",
       "      <td>0.58</td>\n",
       "      <td>9.8</td>\n",
       "      <td>6.0</td>\n",
       "    </tr>\n",
       "    <tr>\n",
       "      <th>4</th>\n",
       "      <td>7.4</td>\n",
       "      <td>0.700</td>\n",
       "      <td>0.00</td>\n",
       "      <td>1.9</td>\n",
       "      <td>0.076</td>\n",
       "      <td>11.0</td>\n",
       "      <td>34.0</td>\n",
       "      <td>0.99780</td>\n",
       "      <td>3.51</td>\n",
       "      <td>0.56</td>\n",
       "      <td>9.4</td>\n",
       "      <td>5.0</td>\n",
       "    </tr>\n",
       "    <tr>\n",
       "      <th>...</th>\n",
       "      <td>...</td>\n",
       "      <td>...</td>\n",
       "      <td>...</td>\n",
       "      <td>...</td>\n",
       "      <td>...</td>\n",
       "      <td>...</td>\n",
       "      <td>...</td>\n",
       "      <td>...</td>\n",
       "      <td>...</td>\n",
       "      <td>...</td>\n",
       "      <td>...</td>\n",
       "      <td>...</td>\n",
       "    </tr>\n",
       "    <tr>\n",
       "      <th>1594</th>\n",
       "      <td>6.2</td>\n",
       "      <td>0.600</td>\n",
       "      <td>0.08</td>\n",
       "      <td>2.0</td>\n",
       "      <td>0.090</td>\n",
       "      <td>32.0</td>\n",
       "      <td>44.0</td>\n",
       "      <td>0.99490</td>\n",
       "      <td>3.45</td>\n",
       "      <td>0.58</td>\n",
       "      <td>10.5</td>\n",
       "      <td>5.0</td>\n",
       "    </tr>\n",
       "    <tr>\n",
       "      <th>1595</th>\n",
       "      <td>5.9</td>\n",
       "      <td>0.550</td>\n",
       "      <td>0.10</td>\n",
       "      <td>2.2</td>\n",
       "      <td>0.062</td>\n",
       "      <td>39.0</td>\n",
       "      <td>51.0</td>\n",
       "      <td>0.99512</td>\n",
       "      <td>3.52</td>\n",
       "      <td>0.76</td>\n",
       "      <td>11.2</td>\n",
       "      <td>6.0</td>\n",
       "    </tr>\n",
       "    <tr>\n",
       "      <th>1596</th>\n",
       "      <td>6.3</td>\n",
       "      <td>0.510</td>\n",
       "      <td>0.13</td>\n",
       "      <td>2.3</td>\n",
       "      <td>0.076</td>\n",
       "      <td>29.0</td>\n",
       "      <td>40.0</td>\n",
       "      <td>0.99574</td>\n",
       "      <td>3.42</td>\n",
       "      <td>0.75</td>\n",
       "      <td>11.0</td>\n",
       "      <td>6.0</td>\n",
       "    </tr>\n",
       "    <tr>\n",
       "      <th>1597</th>\n",
       "      <td>5.9</td>\n",
       "      <td>0.645</td>\n",
       "      <td>0.12</td>\n",
       "      <td>2.0</td>\n",
       "      <td>0.075</td>\n",
       "      <td>32.0</td>\n",
       "      <td>44.0</td>\n",
       "      <td>0.99547</td>\n",
       "      <td>3.57</td>\n",
       "      <td>0.71</td>\n",
       "      <td>10.2</td>\n",
       "      <td>5.0</td>\n",
       "    </tr>\n",
       "    <tr>\n",
       "      <th>1598</th>\n",
       "      <td>6.0</td>\n",
       "      <td>0.310</td>\n",
       "      <td>0.47</td>\n",
       "      <td>3.6</td>\n",
       "      <td>0.067</td>\n",
       "      <td>18.0</td>\n",
       "      <td>42.0</td>\n",
       "      <td>0.99549</td>\n",
       "      <td>3.39</td>\n",
       "      <td>0.66</td>\n",
       "      <td>11.0</td>\n",
       "      <td>6.0</td>\n",
       "    </tr>\n",
       "  </tbody>\n",
       "</table>\n",
       "<p>1599 rows × 12 columns</p>\n",
       "</div>"
      ],
      "text/plain": [
       "      fixed acidity  volatile acidity  citric acid  residual sugar  chlorides  \\\n",
       "0               7.4             0.700         0.00             1.9      0.076   \n",
       "1               7.8             0.880         0.00             2.6      0.098   \n",
       "2               7.8             0.760         0.04             2.3      0.092   \n",
       "3              11.2             0.280         0.56             1.9      0.075   \n",
       "4               7.4             0.700         0.00             1.9      0.076   \n",
       "...             ...               ...          ...             ...        ...   \n",
       "1594            6.2             0.600         0.08             2.0      0.090   \n",
       "1595            5.9             0.550         0.10             2.2      0.062   \n",
       "1596            6.3             0.510         0.13             2.3      0.076   \n",
       "1597            5.9             0.645         0.12             2.0      0.075   \n",
       "1598            6.0             0.310         0.47             3.6      0.067   \n",
       "\n",
       "      free sulfur dioxide  total sulfur dioxide  density    pH  sulphates  \\\n",
       "0                    11.0                  34.0  0.99780  3.51       0.56   \n",
       "1                    25.0                  67.0  0.99680  3.20       0.68   \n",
       "2                    15.0                  54.0  0.99700  3.26       0.65   \n",
       "3                    17.0                  60.0  0.99800  3.16       0.58   \n",
       "4                    11.0                  34.0  0.99780  3.51       0.56   \n",
       "...                   ...                   ...      ...   ...        ...   \n",
       "1594                 32.0                  44.0  0.99490  3.45       0.58   \n",
       "1595                 39.0                  51.0  0.99512  3.52       0.76   \n",
       "1596                 29.0                  40.0  0.99574  3.42       0.75   \n",
       "1597                 32.0                  44.0  0.99547  3.57       0.71   \n",
       "1598                 18.0                  42.0  0.99549  3.39       0.66   \n",
       "\n",
       "      alcohol  quality  \n",
       "0         9.4      5.0  \n",
       "1         9.8      5.0  \n",
       "2         9.8      5.0  \n",
       "3         9.8      6.0  \n",
       "4         9.4      5.0  \n",
       "...       ...      ...  \n",
       "1594     10.5      5.0  \n",
       "1595     11.2      6.0  \n",
       "1596     11.0      6.0  \n",
       "1597     10.2      5.0  \n",
       "1598     11.0      6.0  \n",
       "\n",
       "[1599 rows x 12 columns]"
      ]
     },
     "execution_count": 91,
     "metadata": {},
     "output_type": "execute_result"
    }
   ],
   "source": [
    "df"
   ]
  },
  {
   "cell_type": "markdown",
   "id": "d074bd11",
   "metadata": {},
   "source": [
    "Describe the dataset:"
   ]
  },
  {
   "cell_type": "code",
   "execution_count": 92,
   "id": "c3bd8499",
   "metadata": {
    "scrolled": true
   },
   "outputs": [
    {
     "data": {
      "text/html": [
       "<div>\n",
       "<style scoped>\n",
       "    .dataframe tbody tr th:only-of-type {\n",
       "        vertical-align: middle;\n",
       "    }\n",
       "\n",
       "    .dataframe tbody tr th {\n",
       "        vertical-align: top;\n",
       "    }\n",
       "\n",
       "    .dataframe thead th {\n",
       "        text-align: right;\n",
       "    }\n",
       "</style>\n",
       "<table border=\"1\" class=\"dataframe\">\n",
       "  <thead>\n",
       "    <tr style=\"text-align: right;\">\n",
       "      <th></th>\n",
       "      <th>fixed acidity</th>\n",
       "      <th>volatile acidity</th>\n",
       "      <th>citric acid</th>\n",
       "      <th>residual sugar</th>\n",
       "      <th>chlorides</th>\n",
       "      <th>free sulfur dioxide</th>\n",
       "      <th>total sulfur dioxide</th>\n",
       "      <th>density</th>\n",
       "      <th>pH</th>\n",
       "      <th>sulphates</th>\n",
       "      <th>alcohol</th>\n",
       "      <th>quality</th>\n",
       "    </tr>\n",
       "  </thead>\n",
       "  <tbody>\n",
       "    <tr>\n",
       "      <th>count</th>\n",
       "      <td>1599.000000</td>\n",
       "      <td>1599.000000</td>\n",
       "      <td>1599.000000</td>\n",
       "      <td>1599.000000</td>\n",
       "      <td>1599.000000</td>\n",
       "      <td>1599.000000</td>\n",
       "      <td>1599.000000</td>\n",
       "      <td>1599.000000</td>\n",
       "      <td>1599.000000</td>\n",
       "      <td>1599.000000</td>\n",
       "      <td>1599.000000</td>\n",
       "      <td>1599.000000</td>\n",
       "    </tr>\n",
       "    <tr>\n",
       "      <th>mean</th>\n",
       "      <td>8.319637</td>\n",
       "      <td>0.527821</td>\n",
       "      <td>0.270976</td>\n",
       "      <td>2.538806</td>\n",
       "      <td>0.087467</td>\n",
       "      <td>15.874922</td>\n",
       "      <td>46.467792</td>\n",
       "      <td>0.996747</td>\n",
       "      <td>3.311113</td>\n",
       "      <td>0.658149</td>\n",
       "      <td>10.422983</td>\n",
       "      <td>5.636023</td>\n",
       "    </tr>\n",
       "    <tr>\n",
       "      <th>std</th>\n",
       "      <td>1.741096</td>\n",
       "      <td>0.179060</td>\n",
       "      <td>0.194801</td>\n",
       "      <td>1.409928</td>\n",
       "      <td>0.047065</td>\n",
       "      <td>10.460157</td>\n",
       "      <td>32.895324</td>\n",
       "      <td>0.001887</td>\n",
       "      <td>0.154386</td>\n",
       "      <td>0.169507</td>\n",
       "      <td>1.065668</td>\n",
       "      <td>0.807569</td>\n",
       "    </tr>\n",
       "    <tr>\n",
       "      <th>min</th>\n",
       "      <td>4.600000</td>\n",
       "      <td>0.120000</td>\n",
       "      <td>0.000000</td>\n",
       "      <td>0.900000</td>\n",
       "      <td>0.012000</td>\n",
       "      <td>1.000000</td>\n",
       "      <td>6.000000</td>\n",
       "      <td>0.990070</td>\n",
       "      <td>2.740000</td>\n",
       "      <td>0.330000</td>\n",
       "      <td>8.400000</td>\n",
       "      <td>3.000000</td>\n",
       "    </tr>\n",
       "    <tr>\n",
       "      <th>25%</th>\n",
       "      <td>7.100000</td>\n",
       "      <td>0.390000</td>\n",
       "      <td>0.090000</td>\n",
       "      <td>1.900000</td>\n",
       "      <td>0.070000</td>\n",
       "      <td>7.000000</td>\n",
       "      <td>22.000000</td>\n",
       "      <td>0.995600</td>\n",
       "      <td>3.210000</td>\n",
       "      <td>0.550000</td>\n",
       "      <td>9.500000</td>\n",
       "      <td>5.000000</td>\n",
       "    </tr>\n",
       "    <tr>\n",
       "      <th>50%</th>\n",
       "      <td>7.900000</td>\n",
       "      <td>0.520000</td>\n",
       "      <td>0.260000</td>\n",
       "      <td>2.200000</td>\n",
       "      <td>0.079000</td>\n",
       "      <td>14.000000</td>\n",
       "      <td>38.000000</td>\n",
       "      <td>0.996750</td>\n",
       "      <td>3.310000</td>\n",
       "      <td>0.620000</td>\n",
       "      <td>10.200000</td>\n",
       "      <td>6.000000</td>\n",
       "    </tr>\n",
       "    <tr>\n",
       "      <th>75%</th>\n",
       "      <td>9.200000</td>\n",
       "      <td>0.640000</td>\n",
       "      <td>0.420000</td>\n",
       "      <td>2.600000</td>\n",
       "      <td>0.090000</td>\n",
       "      <td>21.000000</td>\n",
       "      <td>62.000000</td>\n",
       "      <td>0.997835</td>\n",
       "      <td>3.400000</td>\n",
       "      <td>0.730000</td>\n",
       "      <td>11.100000</td>\n",
       "      <td>6.000000</td>\n",
       "    </tr>\n",
       "    <tr>\n",
       "      <th>max</th>\n",
       "      <td>15.900000</td>\n",
       "      <td>1.580000</td>\n",
       "      <td>1.000000</td>\n",
       "      <td>15.500000</td>\n",
       "      <td>0.611000</td>\n",
       "      <td>72.000000</td>\n",
       "      <td>289.000000</td>\n",
       "      <td>1.003690</td>\n",
       "      <td>4.010000</td>\n",
       "      <td>2.000000</td>\n",
       "      <td>14.900000</td>\n",
       "      <td>8.000000</td>\n",
       "    </tr>\n",
       "  </tbody>\n",
       "</table>\n",
       "</div>"
      ],
      "text/plain": [
       "       fixed acidity  volatile acidity  citric acid  residual sugar  \\\n",
       "count    1599.000000       1599.000000  1599.000000     1599.000000   \n",
       "mean        8.319637          0.527821     0.270976        2.538806   \n",
       "std         1.741096          0.179060     0.194801        1.409928   \n",
       "min         4.600000          0.120000     0.000000        0.900000   \n",
       "25%         7.100000          0.390000     0.090000        1.900000   \n",
       "50%         7.900000          0.520000     0.260000        2.200000   \n",
       "75%         9.200000          0.640000     0.420000        2.600000   \n",
       "max        15.900000          1.580000     1.000000       15.500000   \n",
       "\n",
       "         chlorides  free sulfur dioxide  total sulfur dioxide      density  \\\n",
       "count  1599.000000          1599.000000           1599.000000  1599.000000   \n",
       "mean      0.087467            15.874922             46.467792     0.996747   \n",
       "std       0.047065            10.460157             32.895324     0.001887   \n",
       "min       0.012000             1.000000              6.000000     0.990070   \n",
       "25%       0.070000             7.000000             22.000000     0.995600   \n",
       "50%       0.079000            14.000000             38.000000     0.996750   \n",
       "75%       0.090000            21.000000             62.000000     0.997835   \n",
       "max       0.611000            72.000000            289.000000     1.003690   \n",
       "\n",
       "                pH    sulphates      alcohol      quality  \n",
       "count  1599.000000  1599.000000  1599.000000  1599.000000  \n",
       "mean      3.311113     0.658149    10.422983     5.636023  \n",
       "std       0.154386     0.169507     1.065668     0.807569  \n",
       "min       2.740000     0.330000     8.400000     3.000000  \n",
       "25%       3.210000     0.550000     9.500000     5.000000  \n",
       "50%       3.310000     0.620000    10.200000     6.000000  \n",
       "75%       3.400000     0.730000    11.100000     6.000000  \n",
       "max       4.010000     2.000000    14.900000     8.000000  "
      ]
     },
     "execution_count": 92,
     "metadata": {},
     "output_type": "execute_result"
    }
   ],
   "source": [
    "# onlly continuous cloumns\n",
    "df.describe()"
   ]
  },
  {
   "cell_type": "code",
   "execution_count": 93,
   "id": "fd9abc94",
   "metadata": {},
   "outputs": [
    {
     "data": {
      "text/plain": [
       "<AxesSubplot:>"
      ]
     },
     "execution_count": 93,
     "metadata": {},
     "output_type": "execute_result"
    },
    {
     "data": {
      "image/png": "[encoded data removed]",
      "text/plain": [
       "<Figure size 936x504 with 2 Axes>"
      ]
     },
     "metadata": {
      "needs_background": "light"
     },
     "output_type": "display_data"
    }
   ],
   "source": [
    "import matplotlib.pyplot as plt\n",
    "plt.figure(figsize=(13,7))\n",
    "sns.heatmap(df.describe(),annot=True,linewidths=0.1,linecolor=\"black\",fmt=\"0.2f\")"
   ]
  },
  {
   "cell_type": "markdown",
   "id": "89666449",
   "metadata": {},
   "source": [
    "correlation of the columns with the target columns"
   ]
  },
  {
   "cell_type": "code",
   "execution_count": 94,
   "id": "5807271e",
   "metadata": {},
   "outputs": [
    {
     "data": {
      "text/plain": [
       "volatile acidity       -0.390558\n",
       "total sulfur dioxide   -0.185100\n",
       "density                -0.174919\n",
       "chlorides              -0.128907\n",
       "pH                     -0.057731\n",
       "free sulfur dioxide    -0.050656\n",
       "residual sugar          0.013732\n",
       "fixed acidity           0.124052\n",
       "citric acid             0.226373\n",
       "sulphates               0.251397\n",
       "alcohol                 0.476166\n",
       "quality                 1.000000\n",
       "Name: quality, dtype: float64"
      ]
     },
     "execution_count": 94,
     "metadata": {},
     "output_type": "execute_result"
    }
   ],
   "source": [
    "df.corr()['quality'].sort_values()"
   ]
  },
  {
   "cell_type": "code",
   "execution_count": 95,
   "id": "057b44d7",
   "metadata": {},
   "outputs": [
    {
     "data": {
      "text/plain": [
       "<AxesSubplot:>"
      ]
     },
     "execution_count": 95,
     "metadata": {},
     "output_type": "execute_result"
    },
    {
     "data": {
      "image/png": "[encoded data removed]",
      "text/plain": [
       "<Figure size 936x504 with 2 Axes>"
      ]
     },
     "metadata": {
      "needs_background": "light"
     },
     "output_type": "display_data"
    }
   ],
   "source": [
    "plt.figure(figsize=(13,7))\n",
    "sns.heatmap(df.corr(),annot=True,linewidths=0.1,linecolor=\"black\",fmt=\"0.2f\",)"
   ]
  },
  {
   "cell_type": "markdown",
   "id": "4226b277",
   "metadata": {},
   "source": [
    "Checking the columns which are positively and negative correlated with the target columns:"
   ]
  },
  {
   "cell_type": "code",
   "execution_count": 96,
   "id": "9057958b",
   "metadata": {},
   "outputs": [
    {
     "data": {
      "image/png": "[encoded data removed]",
      "text/plain": [
       "<Figure size 936x504 with 1 Axes>"
      ]
     },
     "metadata": {
      "needs_background": "light"
     },
     "output_type": "display_data"
    }
   ],
   "source": [
    "plt.figure(figsize=(13,7))\n",
    "df.corr()['quality'].sort_values(ascending=False).drop(['quality']).plot(kind='bar',color='c')\n",
    "plt.xlabel('Feature',fontsize=14)\n",
    "plt.ylabel('column with target names',fontsize=14)\n",
    "plt.title('correlation',fontsize=18)\n",
    "plt.show()"
   ]
  },
  {
   "cell_type": "code",
   "execution_count": 97,
   "id": "b4f9e20c",
   "metadata": {},
   "outputs": [
    {
     "data": {
      "text/plain": [
       "fixed acidity           0.982751\n",
       "volatile acidity        0.671593\n",
       "citric acid             0.318337\n",
       "residual sugar          4.540655\n",
       "chlorides               5.680347\n",
       "free sulfur dioxide     1.250567\n",
       "total sulfur dioxide    1.515531\n",
       "density                 0.071288\n",
       "pH                      0.193683\n",
       "sulphates               2.428672\n",
       "alcohol                 0.860829\n",
       "quality                 0.217802\n",
       "dtype: float64"
      ]
     },
     "execution_count": 97,
     "metadata": {},
     "output_type": "execute_result"
    }
   ],
   "source": [
    "df.skew()"
   ]
  },
  {
   "cell_type": "markdown",
   "id": "0e43d892",
   "metadata": {},
   "source": [
    "outliers check:"
   ]
  },
  {
   "cell_type": "code",
   "execution_count": 98,
   "id": "a078a8c7",
   "metadata": {},
   "outputs": [
    {
     "data": {
      "text/plain": [
       "fixed acidity           float64\n",
       "volatile acidity        float64\n",
       "citric acid             float64\n",
       "residual sugar          float64\n",
       "chlorides               float64\n",
       "free sulfur dioxide     float64\n",
       "total sulfur dioxide    float64\n",
       "density                 float64\n",
       "pH                      float64\n",
       "sulphates               float64\n",
       "alcohol                 float64\n",
       "quality                 float64\n",
       "dtype: object"
      ]
     },
     "execution_count": 98,
     "metadata": {},
     "output_type": "execute_result"
    }
   ],
   "source": [
    "df.dtypes"
   ]
  },
  {
   "cell_type": "markdown",
   "id": "f12efce5",
   "metadata": {},
   "source": [
    "check the outliers on the folat type of columns"
   ]
  },
  {
   "cell_type": "code",
   "execution_count": 99,
   "id": "3720d13e",
   "metadata": {},
   "outputs": [
    {
     "data": {
      "text/plain": [
       "<AxesSubplot:>"
      ]
     },
     "execution_count": 99,
     "metadata": {},
     "output_type": "execute_result"
    },
    {
     "data": {
      "image/png": "[encoded data removed]",
      "text/plain": [
       "<Figure size 432x288 with 1 Axes>"
      ]
     },
     "metadata": {
      "needs_background": "light"
     },
     "output_type": "display_data"
    }
   ],
   "source": [
    "df['fixed acidity'].plot.box()"
   ]
  },
  {
   "cell_type": "code",
   "execution_count": 100,
   "id": "1f4ce38a",
   "metadata": {},
   "outputs": [
    {
     "data": {
      "text/plain": [
       "<AxesSubplot:>"
      ]
     },
     "execution_count": 100,
     "metadata": {},
     "output_type": "execute_result"
    },
    {
     "data": {
      "image/png": "[encoded data removed]",
      "text/plain": [
       "<Figure size 432x288 with 1 Axes>"
      ]
     },
     "metadata": {
      "needs_background": "light"
     },
     "output_type": "display_data"
    }
   ],
   "source": [
    "df['volatile acidity'].plot.box()"
   ]
  },
  {
   "cell_type": "code",
   "execution_count": 101,
   "id": "e002492d",
   "metadata": {},
   "outputs": [
    {
     "data": {
      "text/plain": [
       "<AxesSubplot:>"
      ]
     },
     "execution_count": 101,
     "metadata": {},
     "output_type": "execute_result"
    },
    {
     "data": {
      "image/png": "[encoded data removed]",
      "text/plain": [
       "<Figure size 432x288 with 1 Axes>"
      ]
     },
     "metadata": {
      "needs_background": "light"
     },
     "output_type": "display_data"
    }
   ],
   "source": [
    "df['quality'].plot.box()"
   ]
  },
  {
   "cell_type": "code",
   "execution_count": 102,
   "id": "3fde95f2",
   "metadata": {},
   "outputs": [
    {
     "data": {
      "text/plain": [
       "<AxesSubplot:>"
      ]
     },
     "execution_count": 102,
     "metadata": {},
     "output_type": "execute_result"
    },
    {
     "data": {
      "image/png": "[encoded data removed]",
      "text/plain": [
       "<Figure size 432x288 with 1 Axes>"
      ]
     },
     "metadata": {
      "needs_background": "light"
     },
     "output_type": "display_data"
    }
   ],
   "source": [
    "df['sulphates'].plot.box()"
   ]
  },
  {
   "cell_type": "code",
   "execution_count": 103,
   "id": "ec7236ee",
   "metadata": {},
   "outputs": [
    {
     "data": {
      "text/plain": [
       "array([ 7.4,  7.8, 11.2,  7.9,  7.3,  7.5,  6.7,  5.6,  8.9,  8.5,  8.1,\n",
       "        7.6,  6.9,  6.3,  7.1,  8.3,  5.2,  5.7,  8.8,  6.8,  4.6,  7.7,\n",
       "        8.7,  6.4,  6.6,  8.6, 10.2,  7. ,  7.2,  9.3,  8. ,  9.7,  6.2,\n",
       "        5. ,  4.7,  8.4, 10.1,  9.4,  9. ,  8.2,  6.1,  5.8,  9.2, 11.5,\n",
       "        5.4,  9.6, 12.8, 11. , 11.6, 12. , 15. , 10.8, 11.1, 10. , 12.5,\n",
       "       11.8, 10.9, 10.3, 11.4,  9.9, 10.4, 13.3, 10.6,  9.8, 13.4, 10.7,\n",
       "       11.9, 12.4, 12.2, 13.8,  9.1, 13.5, 10.5, 12.6, 14. , 13.7,  9.5,\n",
       "       12.7, 12.3, 15.6,  5.3, 11.3, 13. ,  6.5, 12.9, 14.3, 15.5, 11.7,\n",
       "       13.2, 15.9, 12.1,  5.1,  4.9,  5.9,  6. ,  5.5])"
      ]
     },
     "execution_count": 103,
     "metadata": {},
     "output_type": "execute_result"
    }
   ],
   "source": [
    "df['fixed acidity'].unique()"
   ]
  },
  {
   "cell_type": "markdown",
   "id": "f1d295f8",
   "metadata": {},
   "source": [
    "considering outlier removal"
   ]
  },
  {
   "cell_type": "code",
   "execution_count": 104,
   "id": "83c4c836",
   "metadata": {},
   "outputs": [
    {
     "data": {
      "text/plain": [
       "(1599, 12)"
      ]
     },
     "execution_count": 104,
     "metadata": {},
     "output_type": "execute_result"
    }
   ],
   "source": [
    "df.shape"
   ]
  },
  {
   "cell_type": "code",
   "execution_count": 105,
   "id": "1ee860b5",
   "metadata": {},
   "outputs": [
    {
     "data": {
      "text/plain": [
       "(array([  13,   14,   15,   15,   17,   17,   19,   33,   38,   42,   43,\n",
       "          45,   57,   81,   81,   83,   86,   88,   91,   92,   95,  106,\n",
       "         106,  109,  120,  126,  127,  142,  144,  147,  151,  151,  151,\n",
       "         151,  163,  164,  169,  169,  181,  199,  226,  226,  240,  243,\n",
       "         244,  258,  258,  274,  281,  291,  324,  325,  339,  340,  347,\n",
       "         354,  374,  381,  391,  396,  396,  400,  400,  442,  442,  451,\n",
       "         459,  467,  480,  480,  494,  515,  517,  544,  554,  554,  555,\n",
       "         555,  557,  557,  568,  584,  588,  591,  595,  608,  614,  636,\n",
       "         639,  649,  649,  651,  652,  652,  652,  672,  672,  684,  690,\n",
       "         690,  692,  692,  695,  723,  724,  730,  754,  776,  777,  795,\n",
       "         821,  832,  836,  837,  889,  899,  911,  917,  923,  925,  926,\n",
       "         982, 1017, 1018, 1043, 1051, 1051, 1071, 1074, 1079, 1079, 1081,\n",
       "        1081, 1111, 1114, 1131, 1154, 1165, 1175, 1186, 1231, 1235, 1244,\n",
       "        1244, 1244, 1260, 1269, 1269, 1270, 1270, 1288, 1289, 1295, 1296,\n",
       "        1299, 1299, 1300, 1312, 1316, 1319, 1319, 1321, 1358, 1367, 1370,\n",
       "        1370, 1372, 1372, 1374, 1374, 1434, 1434, 1434, 1435, 1435, 1435,\n",
       "        1469, 1474, 1474, 1474, 1476, 1476, 1476, 1478, 1493, 1496, 1505,\n",
       "        1558, 1558, 1570, 1574, 1589], dtype=int64),\n",
       " array([ 9,  5,  5,  6,  4,  9,  4,  3,  1,  4,  9,  8,  5,  4,  9,  4,  9,\n",
       "         9,  9,  9,  8,  4,  9,  6,  1,  1,  1, 10, 10,  4,  2,  4,  8,  9,\n",
       "         3,  3,  4,  9,  4,  1,  4,  9,  4,  0,  0,  4,  9,  3,  4,  4,  3,\n",
       "         3,  9,  9,  0,  6,  0,  0,  0,  3,  5,  3,  5,  0,  7,  4, 11, 10,\n",
       "         3,  7,  3,  6, 11,  0,  0,  7,  0,  7,  0,  7,  4,  5, 10,  6,  3,\n",
       "         7,  9,  6,  9,  3,  6,  6,  0,  3, 10,  1,  6,  6,  1, 11,  4,  9,\n",
       "         8,  9,  1,  4,  4,  4,  4,  9, 10, 11,  7,  7,  7, 11,  3,  3,  3,\n",
       "         5,  5,  5,  7,  7,  3,  4,  9,  3,  3,  3,  6,  3,  6,  8,  7,  5,\n",
       "         5,  4,  5,  3,  5,  3,  3,  5,  6,  4,  7, 10,  7, 10,  9,  9,  5,\n",
       "         5,  1, 11,  8,  1,  8,  4,  9,  8,  5,  9,  4,  9,  4,  9,  4, 11,\n",
       "         3,  5,  7,  3,  5,  7, 11,  3,  5,  7,  3,  5,  7, 11,  6,  6, 11,\n",
       "         4,  5,  4,  3,  3], dtype=int64))"
      ]
     },
     "execution_count": 105,
     "metadata": {},
     "output_type": "execute_result"
    }
   ],
   "source": [
    "from scipy.stats import zscore\n",
    "import numpy as np \n",
    "z=np.abs(zscore(df))\n",
    "threshold=3\n",
    "np.where(z>3)"
   ]
  },
  {
   "cell_type": "code",
   "execution_count": 106,
   "id": "3b9eb9a8",
   "metadata": {},
   "outputs": [
    {
     "data": {
      "text/html": [
       "<div>\n",
       "<style scoped>\n",
       "    .dataframe tbody tr th:only-of-type {\n",
       "        vertical-align: middle;\n",
       "    }\n",
       "\n",
       "    .dataframe tbody tr th {\n",
       "        vertical-align: top;\n",
       "    }\n",
       "\n",
       "    .dataframe thead th {\n",
       "        text-align: right;\n",
       "    }\n",
       "</style>\n",
       "<table border=\"1\" class=\"dataframe\">\n",
       "  <thead>\n",
       "    <tr style=\"text-align: right;\">\n",
       "      <th></th>\n",
       "      <th>fixed acidity</th>\n",
       "      <th>volatile acidity</th>\n",
       "      <th>citric acid</th>\n",
       "      <th>residual sugar</th>\n",
       "      <th>chlorides</th>\n",
       "      <th>free sulfur dioxide</th>\n",
       "      <th>total sulfur dioxide</th>\n",
       "      <th>density</th>\n",
       "      <th>pH</th>\n",
       "      <th>sulphates</th>\n",
       "      <th>alcohol</th>\n",
       "      <th>quality</th>\n",
       "    </tr>\n",
       "  </thead>\n",
       "  <tbody>\n",
       "    <tr>\n",
       "      <th>0</th>\n",
       "      <td>7.4</td>\n",
       "      <td>0.700</td>\n",
       "      <td>0.00</td>\n",
       "      <td>1.9</td>\n",
       "      <td>0.076</td>\n",
       "      <td>11.0</td>\n",
       "      <td>34.0</td>\n",
       "      <td>0.99780</td>\n",
       "      <td>3.51</td>\n",
       "      <td>0.56</td>\n",
       "      <td>9.4</td>\n",
       "      <td>5.0</td>\n",
       "    </tr>\n",
       "    <tr>\n",
       "      <th>1</th>\n",
       "      <td>7.8</td>\n",
       "      <td>0.880</td>\n",
       "      <td>0.00</td>\n",
       "      <td>2.6</td>\n",
       "      <td>0.098</td>\n",
       "      <td>25.0</td>\n",
       "      <td>67.0</td>\n",
       "      <td>0.99680</td>\n",
       "      <td>3.20</td>\n",
       "      <td>0.68</td>\n",
       "      <td>9.8</td>\n",
       "      <td>5.0</td>\n",
       "    </tr>\n",
       "    <tr>\n",
       "      <th>2</th>\n",
       "      <td>7.8</td>\n",
       "      <td>0.760</td>\n",
       "      <td>0.04</td>\n",
       "      <td>2.3</td>\n",
       "      <td>0.092</td>\n",
       "      <td>15.0</td>\n",
       "      <td>54.0</td>\n",
       "      <td>0.99700</td>\n",
       "      <td>3.26</td>\n",
       "      <td>0.65</td>\n",
       "      <td>9.8</td>\n",
       "      <td>5.0</td>\n",
       "    </tr>\n",
       "    <tr>\n",
       "      <th>3</th>\n",
       "      <td>11.2</td>\n",
       "      <td>0.280</td>\n",
       "      <td>0.56</td>\n",
       "      <td>1.9</td>\n",
       "      <td>0.075</td>\n",
       "      <td>17.0</td>\n",
       "      <td>60.0</td>\n",
       "      <td>0.99800</td>\n",
       "      <td>3.16</td>\n",
       "      <td>0.58</td>\n",
       "      <td>9.8</td>\n",
       "      <td>6.0</td>\n",
       "    </tr>\n",
       "    <tr>\n",
       "      <th>4</th>\n",
       "      <td>7.4</td>\n",
       "      <td>0.700</td>\n",
       "      <td>0.00</td>\n",
       "      <td>1.9</td>\n",
       "      <td>0.076</td>\n",
       "      <td>11.0</td>\n",
       "      <td>34.0</td>\n",
       "      <td>0.99780</td>\n",
       "      <td>3.51</td>\n",
       "      <td>0.56</td>\n",
       "      <td>9.4</td>\n",
       "      <td>5.0</td>\n",
       "    </tr>\n",
       "    <tr>\n",
       "      <th>...</th>\n",
       "      <td>...</td>\n",
       "      <td>...</td>\n",
       "      <td>...</td>\n",
       "      <td>...</td>\n",
       "      <td>...</td>\n",
       "      <td>...</td>\n",
       "      <td>...</td>\n",
       "      <td>...</td>\n",
       "      <td>...</td>\n",
       "      <td>...</td>\n",
       "      <td>...</td>\n",
       "      <td>...</td>\n",
       "    </tr>\n",
       "    <tr>\n",
       "      <th>1594</th>\n",
       "      <td>6.2</td>\n",
       "      <td>0.600</td>\n",
       "      <td>0.08</td>\n",
       "      <td>2.0</td>\n",
       "      <td>0.090</td>\n",
       "      <td>32.0</td>\n",
       "      <td>44.0</td>\n",
       "      <td>0.99490</td>\n",
       "      <td>3.45</td>\n",
       "      <td>0.58</td>\n",
       "      <td>10.5</td>\n",
       "      <td>5.0</td>\n",
       "    </tr>\n",
       "    <tr>\n",
       "      <th>1595</th>\n",
       "      <td>5.9</td>\n",
       "      <td>0.550</td>\n",
       "      <td>0.10</td>\n",
       "      <td>2.2</td>\n",
       "      <td>0.062</td>\n",
       "      <td>39.0</td>\n",
       "      <td>51.0</td>\n",
       "      <td>0.99512</td>\n",
       "      <td>3.52</td>\n",
       "      <td>0.76</td>\n",
       "      <td>11.2</td>\n",
       "      <td>6.0</td>\n",
       "    </tr>\n",
       "    <tr>\n",
       "      <th>1596</th>\n",
       "      <td>6.3</td>\n",
       "      <td>0.510</td>\n",
       "      <td>0.13</td>\n",
       "      <td>2.3</td>\n",
       "      <td>0.076</td>\n",
       "      <td>29.0</td>\n",
       "      <td>40.0</td>\n",
       "      <td>0.99574</td>\n",
       "      <td>3.42</td>\n",
       "      <td>0.75</td>\n",
       "      <td>11.0</td>\n",
       "      <td>6.0</td>\n",
       "    </tr>\n",
       "    <tr>\n",
       "      <th>1597</th>\n",
       "      <td>5.9</td>\n",
       "      <td>0.645</td>\n",
       "      <td>0.12</td>\n",
       "      <td>2.0</td>\n",
       "      <td>0.075</td>\n",
       "      <td>32.0</td>\n",
       "      <td>44.0</td>\n",
       "      <td>0.99547</td>\n",
       "      <td>3.57</td>\n",
       "      <td>0.71</td>\n",
       "      <td>10.2</td>\n",
       "      <td>5.0</td>\n",
       "    </tr>\n",
       "    <tr>\n",
       "      <th>1598</th>\n",
       "      <td>6.0</td>\n",
       "      <td>0.310</td>\n",
       "      <td>0.47</td>\n",
       "      <td>3.6</td>\n",
       "      <td>0.067</td>\n",
       "      <td>18.0</td>\n",
       "      <td>42.0</td>\n",
       "      <td>0.99549</td>\n",
       "      <td>3.39</td>\n",
       "      <td>0.66</td>\n",
       "      <td>11.0</td>\n",
       "      <td>6.0</td>\n",
       "    </tr>\n",
       "  </tbody>\n",
       "</table>\n",
       "<p>1451 rows × 12 columns</p>\n",
       "</div>"
      ],
      "text/plain": [
       "      fixed acidity  volatile acidity  citric acid  residual sugar  chlorides  \\\n",
       "0               7.4             0.700         0.00             1.9      0.076   \n",
       "1               7.8             0.880         0.00             2.6      0.098   \n",
       "2               7.8             0.760         0.04             2.3      0.092   \n",
       "3              11.2             0.280         0.56             1.9      0.075   \n",
       "4               7.4             0.700         0.00             1.9      0.076   \n",
       "...             ...               ...          ...             ...        ...   \n",
       "1594            6.2             0.600         0.08             2.0      0.090   \n",
       "1595            5.9             0.550         0.10             2.2      0.062   \n",
       "1596            6.3             0.510         0.13             2.3      0.076   \n",
       "1597            5.9             0.645         0.12             2.0      0.075   \n",
       "1598            6.0             0.310         0.47             3.6      0.067   \n",
       "\n",
       "      free sulfur dioxide  total sulfur dioxide  density    pH  sulphates  \\\n",
       "0                    11.0                  34.0  0.99780  3.51       0.56   \n",
       "1                    25.0                  67.0  0.99680  3.20       0.68   \n",
       "2                    15.0                  54.0  0.99700  3.26       0.65   \n",
       "3                    17.0                  60.0  0.99800  3.16       0.58   \n",
       "4                    11.0                  34.0  0.99780  3.51       0.56   \n",
       "...                   ...                   ...      ...   ...        ...   \n",
       "1594                 32.0                  44.0  0.99490  3.45       0.58   \n",
       "1595                 39.0                  51.0  0.99512  3.52       0.76   \n",
       "1596                 29.0                  40.0  0.99574  3.42       0.75   \n",
       "1597                 32.0                  44.0  0.99547  3.57       0.71   \n",
       "1598                 18.0                  42.0  0.99549  3.39       0.66   \n",
       "\n",
       "      alcohol  quality  \n",
       "0         9.4      5.0  \n",
       "1         9.8      5.0  \n",
       "2         9.8      5.0  \n",
       "3         9.8      6.0  \n",
       "4         9.4      5.0  \n",
       "...       ...      ...  \n",
       "1594     10.5      5.0  \n",
       "1595     11.2      6.0  \n",
       "1596     11.0      6.0  \n",
       "1597     10.2      5.0  \n",
       "1598     11.0      6.0  \n",
       "\n",
       "[1451 rows x 12 columns]"
      ]
     },
     "execution_count": 106,
     "metadata": {},
     "output_type": "execute_result"
    }
   ],
   "source": [
    "df_new_z=df[(z<3).all(axis=1)]\n",
    "df_new_z"
   ]
  },
  {
   "cell_type": "code",
   "execution_count": 107,
   "id": "c69bc79b",
   "metadata": {},
   "outputs": [
    {
     "data": {
      "text/plain": [
       "(1451, 12)"
      ]
     },
     "execution_count": 107,
     "metadata": {},
     "output_type": "execute_result"
    }
   ],
   "source": [
    "df_new_z.shape"
   ]
  },
  {
   "cell_type": "code",
   "execution_count": 108,
   "id": "779caa04",
   "metadata": {},
   "outputs": [],
   "source": [
    "## percentage loss of data:"
   ]
  },
  {
   "cell_type": "code",
   "execution_count": 109,
   "id": "12724ae4",
   "metadata": {},
   "outputs": [],
   "source": [
    "data_loss=(1599-1451/1599)*100"
   ]
  },
  {
   "cell_type": "code",
   "execution_count": 110,
   "id": "c88c9a5f",
   "metadata": {},
   "outputs": [
    {
     "data": {
      "text/plain": [
       "159809.25578486553"
      ]
     },
     "execution_count": 110,
     "metadata": {},
     "output_type": "execute_result"
    }
   ],
   "source": [
    "data_loss"
   ]
  },
  {
   "cell_type": "markdown",
   "id": "90ecd265",
   "metadata": {},
   "source": [
    "separating the columns into features and target:"
   ]
  },
  {
   "cell_type": "code",
   "execution_count": 111,
   "id": "35594a86",
   "metadata": {},
   "outputs": [],
   "source": [
    "features=df.drop(\"quality\",axis=1)\n",
    "target=df[\"quality\"]"
   ]
  },
  {
   "cell_type": "markdown",
   "id": "0b3958e1",
   "metadata": {},
   "source": [
    "scaling the data using Min-Max scaler"
   ]
  },
  {
   "cell_type": "code",
   "execution_count": 112,
   "id": "adc8e14f",
   "metadata": {},
   "outputs": [],
   "source": [
    "from sklearn.preprocessing import MinMaxScaler\n",
    "mms=MinMaxScaler()\n",
    "from sklearn.linear_model import LinearRegression\n",
    "lr=LinearRegression()\n",
    "from sklearn.metrics import r2_score\n",
    "from sklearn.model_selection import train_test_split"
   ]
  },
  {
   "cell_type": "code",
   "execution_count": 113,
   "id": "ef1af4f2",
   "metadata": {},
   "outputs": [],
   "source": [
    "import warnings\n",
    "warnings.filterwarnings('ignore')"
   ]
  },
  {
   "cell_type": "code",
   "execution_count": 114,
   "id": "fa2877ec",
   "metadata": {},
   "outputs": [
    {
     "name": "stdout",
     "output_type": "stream",
     "text": [
      "At random state 0,the training accuracy is:- 0.3654519616206866\n",
      "At random state 0,the testing accuracy is:- 0.32838876395801997\n",
      "\n",
      "\n",
      "At random state 1,the training accuracy is:- 0.3655849921479044\n",
      "At random state 1,the testing accuracy is:- 0.3266402726986819\n",
      "\n",
      "\n",
      "At random state 2,the training accuracy is:- 0.3707977009866663\n",
      "At random state 2,the testing accuracy is:- 0.302438869739154\n",
      "\n",
      "\n",
      "At random state 3,the training accuracy is:- 0.3530297271672961\n",
      "At random state 3,the testing accuracy is:- 0.38690396326325316\n",
      "\n",
      "\n",
      "At random state 4,the training accuracy is:- 0.3636294659967739\n",
      "At random state 4,the testing accuracy is:- 0.33695002513698424\n",
      "\n",
      "\n",
      "At random state 5,the training accuracy is:- 0.35360876598214463\n",
      "At random state 5,the testing accuracy is:- 0.3787468743163529\n",
      "\n",
      "\n",
      "At random state 6,the training accuracy is:- 0.35173920943199843\n",
      "At random state 6,the testing accuracy is:- 0.38947421901084567\n",
      "\n",
      "\n",
      "At random state 7,the training accuracy is:- 0.35997491908932233\n",
      "At random state 7,the testing accuracy is:- 0.34688581372008787\n",
      "\n",
      "\n",
      "At random state 8,the training accuracy is:- 0.3578919148115478\n",
      "At random state 8,the testing accuracy is:- 0.3588548729210791\n",
      "\n",
      "\n",
      "At random state 9,the training accuracy is:- 0.36727428588960365\n",
      "At random state 9,the testing accuracy is:- 0.314420514238989\n",
      "\n",
      "\n",
      "At random state 10,the training accuracy is:- 0.3532768594321877\n",
      "At random state 10,the testing accuracy is:- 0.37075765741654965\n",
      "\n",
      "\n",
      "At random state 11,the training accuracy is:- 0.3614242974721682\n",
      "At random state 11,the testing accuracy is:- 0.3385879347649635\n",
      "\n",
      "\n",
      "At random state 12,the training accuracy is:- 0.3668160062722696\n",
      "At random state 12,the testing accuracy is:- 0.3193695830806884\n",
      "\n",
      "\n",
      "At random state 13,the training accuracy is:- 0.36115280147112483\n",
      "At random state 13,the testing accuracy is:- 0.35395945169177123\n",
      "\n",
      "\n",
      "At random state 14,the training accuracy is:- 0.3663248756306656\n",
      "At random state 14,the testing accuracy is:- 0.3243508918082766\n",
      "\n",
      "\n",
      "At random state 15,the training accuracy is:- 0.3689700137486428\n",
      "At random state 15,the testing accuracy is:- 0.32082782224591044\n",
      "\n",
      "\n",
      "At random state 16,the training accuracy is:- 0.374969777072357\n",
      "At random state 16,the testing accuracy is:- 0.272480950022604\n",
      "\n",
      "\n",
      "At random state 17,the training accuracy is:- 0.344406332857357\n",
      "At random state 17,the testing accuracy is:- 0.4133140188386595\n",
      "\n",
      "\n",
      "At random state 18,the training accuracy is:- 0.35776306523498624\n",
      "At random state 18,the testing accuracy is:- 0.36474967857692386\n",
      "\n",
      "\n",
      "At random state 19,the training accuracy is:- 0.35106772874382786\n",
      "At random state 19,the testing accuracy is:- 0.3850246217957858\n",
      "\n",
      "\n",
      "At random state 20,the training accuracy is:- 0.3653903983114477\n",
      "At random state 20,the testing accuracy is:- 0.33084092793076914\n",
      "\n",
      "\n",
      "At random state 21,the training accuracy is:- 0.3561183161475394\n",
      "At random state 21,the testing accuracy is:- 0.36845549003779465\n",
      "\n",
      "\n",
      "At random state 22,the training accuracy is:- 0.36325899048460786\n",
      "At random state 22,the testing accuracy is:- 0.33049116554400415\n",
      "\n",
      "\n",
      "At random state 23,the training accuracy is:- 0.3440060273969867\n",
      "At random state 23,the testing accuracy is:- 0.4299787994731348\n",
      "\n",
      "\n",
      "At random state 24,the training accuracy is:- 0.384670381673489\n",
      "At random state 24,the testing accuracy is:- 0.25448974877350783\n",
      "\n",
      "\n",
      "At random state 25,the training accuracy is:- 0.36900071550512814\n",
      "At random state 25,the testing accuracy is:- 0.3154516825962327\n",
      "\n",
      "\n",
      "At random state 26,the training accuracy is:- 0.36663437971411683\n",
      "At random state 26,the testing accuracy is:- 0.3135382746917451\n",
      "\n",
      "\n",
      "At random state 27,the training accuracy is:- 0.3433281278630893\n",
      "At random state 27,the testing accuracy is:- 0.42540153717885065\n",
      "\n",
      "\n",
      "At random state 28,the training accuracy is:- 0.35120933281344136\n",
      "At random state 28,the testing accuracy is:- 0.38279956358120093\n",
      "\n",
      "\n",
      "At random state 29,the training accuracy is:- 0.34998099290408113\n",
      "At random state 29,the testing accuracy is:- 0.38730125998501297\n",
      "\n",
      "\n",
      "At random state 30,the training accuracy is:- 0.3532840109858998\n",
      "At random state 30,the testing accuracy is:- 0.3801982546995065\n",
      "\n",
      "\n",
      "At random state 31,the training accuracy is:- 0.3688413554273978\n",
      "At random state 31,the testing accuracy is:- 0.3172377940089778\n",
      "\n",
      "\n",
      "At random state 32,the training accuracy is:- 0.37152428347430944\n",
      "At random state 32,the testing accuracy is:- 0.29136997611173987\n",
      "\n",
      "\n",
      "At random state 33,the training accuracy is:- 0.358688476258228\n",
      "At random state 33,the testing accuracy is:- 0.36131567880637916\n",
      "\n",
      "\n",
      "At random state 34,the training accuracy is:- 0.35524487468123256\n",
      "At random state 34,the testing accuracy is:- 0.37417466675946776\n",
      "\n",
      "\n",
      "At random state 35,the training accuracy is:- 0.36577743687761366\n",
      "At random state 35,the testing accuracy is:- 0.32755551760517465\n",
      "\n",
      "\n",
      "At random state 36,the training accuracy is:- 0.3609566215946577\n",
      "At random state 36,the testing accuracy is:- 0.34336917740198547\n",
      "\n",
      "\n",
      "At random state 37,the training accuracy is:- 0.35738594217158737\n",
      "At random state 37,the testing accuracy is:- 0.3635228272011122\n",
      "\n",
      "\n",
      "At random state 38,the training accuracy is:- 0.35728735328246974\n",
      "At random state 38,the testing accuracy is:- 0.35294115157735373\n",
      "\n",
      "\n",
      "At random state 39,the training accuracy is:- 0.34860803228354365\n",
      "At random state 39,the testing accuracy is:- 0.3924705803720203\n",
      "\n",
      "\n",
      "At random state 40,the training accuracy is:- 0.3435138143942267\n",
      "At random state 40,the testing accuracy is:- 0.41833853912568786\n",
      "\n",
      "\n",
      "At random state 41,the training accuracy is:- 0.36533504755312873\n",
      "At random state 41,the testing accuracy is:- 0.33436666740012033\n",
      "\n",
      "\n",
      "At random state 42,the training accuracy is:- 0.3479926193529863\n",
      "At random state 42,the testing accuracy is:- 0.40318034127962266\n",
      "\n",
      "\n",
      "At random state 43,the training accuracy is:- 0.3515161939299468\n",
      "At random state 43,the testing accuracy is:- 0.3900524601987997\n",
      "\n",
      "\n",
      "At random state 44,the training accuracy is:- 0.37025785726291227\n",
      "At random state 44,the testing accuracy is:- 0.31582937511976217\n",
      "\n",
      "\n",
      "At random state 45,the training accuracy is:- 0.36296109606982596\n",
      "At random state 45,the testing accuracy is:- 0.3354839153613195\n",
      "\n",
      "\n",
      "At random state 46,the training accuracy is:- 0.3713162022049449\n",
      "At random state 46,the testing accuracy is:- 0.3178658095312564\n",
      "\n",
      "\n",
      "At random state 47,the training accuracy is:- 0.36413266141622747\n",
      "At random state 47,the testing accuracy is:- 0.33549251352213105\n",
      "\n",
      "\n",
      "At random state 48,the training accuracy is:- 0.3720270821776219\n",
      "At random state 48,the testing accuracy is:- 0.29845520574682194\n",
      "\n",
      "\n",
      "At random state 49,the training accuracy is:- 0.35370054748930746\n",
      "At random state 49,the testing accuracy is:- 0.3829318811950203\n",
      "\n",
      "\n",
      "At random state 50,the training accuracy is:- 0.36652697046943117\n",
      "At random state 50,the testing accuracy is:- 0.30560424818253873\n",
      "\n",
      "\n",
      "At random state 51,the training accuracy is:- 0.37957287031329967\n",
      "At random state 51,the testing accuracy is:- 0.27573567161567925\n",
      "\n",
      "\n",
      "At random state 52,the training accuracy is:- 0.3604903320739692\n",
      "At random state 52,the testing accuracy is:- 0.3512844591151486\n",
      "\n",
      "\n",
      "At random state 53,the training accuracy is:- 0.3511894197363111\n",
      "At random state 53,the testing accuracy is:- 0.3820298549799044\n",
      "\n",
      "\n",
      "At random state 54,the training accuracy is:- 0.36103858065341055\n",
      "At random state 54,the testing accuracy is:- 0.3414147932632783\n",
      "\n",
      "\n",
      "At random state 55,the training accuracy is:- 0.35825429914166496\n",
      "At random state 55,the testing accuracy is:- 0.36304500331596135\n",
      "\n",
      "\n",
      "At random state 56,the training accuracy is:- 0.3540007933097584\n",
      "At random state 56,the testing accuracy is:- 0.383869327420016\n",
      "\n",
      "\n",
      "At random state 57,the training accuracy is:- 0.3771453418988773\n",
      "At random state 57,the testing accuracy is:- 0.2931720025778366\n",
      "\n",
      "\n",
      "At random state 58,the training accuracy is:- 0.36219301198307796\n",
      "At random state 58,the testing accuracy is:- 0.3491980678460146\n",
      "\n",
      "\n",
      "At random state 59,the training accuracy is:- 0.3716922201791689\n",
      "At random state 59,the testing accuracy is:- 0.3025173549217284\n",
      "\n",
      "\n",
      "At random state 60,the training accuracy is:- 0.35294327722196817\n",
      "At random state 60,the testing accuracy is:- 0.3801116924746405\n",
      "\n",
      "\n",
      "At random state 61,the training accuracy is:- 0.34625646635467167\n",
      "At random state 61,the testing accuracy is:- 0.40698983950773593\n",
      "\n",
      "\n",
      "At random state 62,the training accuracy is:- 0.36416569171418545\n",
      "At random state 62,the testing accuracy is:- 0.3322965057437014\n",
      "\n",
      "\n",
      "At random state 63,the training accuracy is:- 0.35617735673316564\n",
      "At random state 63,the testing accuracy is:- 0.3690201479204883\n",
      "\n",
      "\n",
      "At random state 64,the training accuracy is:- 0.3695934369057794\n",
      "At random state 64,the testing accuracy is:- 0.31779369746795383\n",
      "\n",
      "\n",
      "At random state 65,the training accuracy is:- 0.35520470026811335\n",
      "At random state 65,the testing accuracy is:- 0.37637282221559687\n",
      "\n",
      "\n",
      "At random state 66,the training accuracy is:- 0.37643499407598846\n",
      "At random state 66,the testing accuracy is:- 0.2916574757885867\n",
      "\n",
      "\n",
      "At random state 67,the training accuracy is:- 0.3662648317162387\n",
      "At random state 67,the testing accuracy is:- 0.3211341381350443\n",
      "\n",
      "\n",
      "At random state 68,the training accuracy is:- 0.3721198891005415\n",
      "At random state 68,the testing accuracy is:- 0.30102148355225555\n",
      "\n",
      "\n",
      "At random state 69,the training accuracy is:- 0.36427404583096323\n",
      "At random state 69,the testing accuracy is:- 0.3417347288263961\n",
      "\n",
      "\n",
      "At random state 70,the training accuracy is:- 0.360281005352623\n",
      "At random state 70,the testing accuracy is:- 0.3498499532854057\n",
      "\n",
      "\n",
      "At random state 71,the training accuracy is:- 0.3544383311089545\n",
      "At random state 71,the testing accuracy is:- 0.38066940849024666\n",
      "\n",
      "\n",
      "At random state 72,the training accuracy is:- 0.36006567100166675\n",
      "At random state 72,the testing accuracy is:- 0.359458718469837\n",
      "\n",
      "\n",
      "At random state 73,the training accuracy is:- 0.36588636079220926\n",
      "At random state 73,the testing accuracy is:- 0.3277524147145007\n",
      "\n",
      "\n",
      "At random state 74,the training accuracy is:- 0.3561013105362385\n",
      "At random state 74,the testing accuracy is:- 0.371952083456504\n",
      "\n",
      "\n",
      "At random state 75,the training accuracy is:- 0.37783615734253684\n",
      "At random state 75,the testing accuracy is:- 0.2596786463727304\n",
      "\n",
      "\n",
      "At random state 76,the training accuracy is:- 0.36888236669033525\n",
      "At random state 76,the testing accuracy is:- 0.32217200912615884\n",
      "\n",
      "\n",
      "At random state 77,the training accuracy is:- 0.3611509097664817\n",
      "At random state 77,the testing accuracy is:- 0.3541885721580995\n",
      "\n",
      "\n",
      "At random state 78,the training accuracy is:- 0.35166768973908735\n",
      "At random state 78,the testing accuracy is:- 0.3844227553226761\n",
      "\n",
      "\n",
      "At random state 79,the training accuracy is:- 0.3570592315621386\n",
      "At random state 79,the testing accuracy is:- 0.3587820680371667\n",
      "\n",
      "\n",
      "At random state 80,the training accuracy is:- 0.3639118281132959\n",
      "At random state 80,the testing accuracy is:- 0.3333847344660137\n",
      "\n",
      "\n",
      "At random state 81,the training accuracy is:- 0.36135348599320505\n",
      "At random state 81,the testing accuracy is:- 0.3502499321125959\n",
      "\n",
      "\n",
      "At random state 82,the training accuracy is:- 0.35666415630935155\n",
      "At random state 82,the testing accuracy is:- 0.3649054036661633\n",
      "\n",
      "\n",
      "At random state 83,the training accuracy is:- 0.34913067520047625\n",
      "At random state 83,the testing accuracy is:- 0.40055717766329335\n",
      "\n",
      "\n",
      "At random state 84,the training accuracy is:- 0.3620414433812462\n",
      "At random state 84,the testing accuracy is:- 0.33516526323537466\n",
      "\n",
      "\n",
      "At random state 85,the training accuracy is:- 0.367671673951219\n",
      "At random state 85,the testing accuracy is:- 0.3104199343334677\n",
      "\n",
      "\n",
      "At random state 86,the training accuracy is:- 0.35625686325782024\n",
      "At random state 86,the testing accuracy is:- 0.37346059294608747\n",
      "\n",
      "\n",
      "At random state 87,the training accuracy is:- 0.39157816931526357\n",
      "At random state 87,the testing accuracy is:- 0.17669483642711903\n",
      "\n",
      "\n",
      "At random state 88,the training accuracy is:- 0.372761936006878\n",
      "At random state 88,the testing accuracy is:- 0.30038450919415294\n",
      "\n",
      "\n",
      "At random state 89,the training accuracy is:- 0.3537021045841636\n",
      "At random state 89,the testing accuracy is:- 0.36922934860951706\n",
      "\n",
      "\n",
      "At random state 90,the training accuracy is:- 0.37110848565441357\n",
      "At random state 90,the testing accuracy is:- 0.3031150924017947\n",
      "\n",
      "\n",
      "At random state 91,the training accuracy is:- 0.34530014020819777\n",
      "At random state 91,the testing accuracy is:- 0.4064649631344792\n",
      "\n",
      "\n",
      "At random state 92,the training accuracy is:- 0.3433329199435282\n",
      "At random state 92,the testing accuracy is:- 0.43107092058070073\n",
      "\n",
      "\n",
      "At random state 93,the training accuracy is:- 0.35159957976860723\n",
      "At random state 93,the testing accuracy is:- 0.38840707854320566\n",
      "\n",
      "\n",
      "At random state 94,the training accuracy is:- 0.3848739710866186\n",
      "At random state 94,the testing accuracy is:- 0.23864232422146792\n",
      "\n",
      "\n",
      "At random state 95,the training accuracy is:- 0.36606762257848047\n",
      "At random state 95,the testing accuracy is:- 0.32771842190678857\n",
      "\n",
      "\n",
      "At random state 96,the training accuracy is:- 0.3676095933128162\n",
      "At random state 96,the testing accuracy is:- 0.31778388745841035\n",
      "\n",
      "\n",
      "At random state 97,the training accuracy is:- 0.3740195705014856\n",
      "At random state 97,the testing accuracy is:- 0.2986738704058344\n",
      "\n",
      "\n",
      "At random state 98,the training accuracy is:- 0.3581109911243957\n",
      "At random state 98,the testing accuracy is:- 0.36072219155989627\n",
      "\n",
      "\n",
      "At random state 99,the training accuracy is:- 0.3657321664805212\n",
      "At random state 99,the testing accuracy is:- 0.32741357933011106\n",
      "\n",
      "\n"
     ]
    }
   ],
   "source": [
    "for i in range(0,100):\n",
    "    features_train,features_test,target_train,target_test=train_test_split(features,target,test_size=0.2,random_state=i)\n",
    "    lr.fit(features_train,target_train)\n",
    "    pred_train=lr.predict(features_train)\n",
    "    pred_test=lr.predict(features_test)\n",
    "    print(f\"At random state {i},the training accuracy is:- {r2_score(target_train,pred_train)}\")\n",
    "    print(f\"At random state {i},the testing accuracy is:- {r2_score(target_test,pred_test)}\")\n",
    "    print(\"\\n\")"
   ]
  },
  {
   "cell_type": "code",
   "execution_count": 116,
   "id": "2a2d465b",
   "metadata": {},
   "outputs": [],
   "source": [
    "features_train,features_test,target_train,target_test=train_test_split(features,target,test_size=0.2,random_state=12)"
   ]
  },
  {
   "cell_type": "code",
   "execution_count": 117,
   "id": "0156a733",
   "metadata": {},
   "outputs": [
    {
     "data": {
      "text/plain": [
       "LinearRegression()"
      ]
     },
     "execution_count": 117,
     "metadata": {},
     "output_type": "execute_result"
    }
   ],
   "source": [
    "# train the model\n",
    "lr.fit(features_train,target_train)"
   ]
  },
  {
   "cell_type": "code",
   "execution_count": 119,
   "id": "a8bbb674",
   "metadata": {},
   "outputs": [],
   "source": [
    "pred_test=lr.predict(features_test)"
   ]
  },
  {
   "cell_type": "code",
   "execution_count": 120,
   "id": "78ae9928",
   "metadata": {},
   "outputs": [
    {
     "name": "stdout",
     "output_type": "stream",
     "text": [
      "0.3193695830806884\n"
     ]
    }
   ],
   "source": [
    "print(r2_score(target_test,pred_test))"
   ]
  },
  {
   "cell_type": "markdown",
   "id": "85348aa8",
   "metadata": {},
   "source": [
    "cross-validation of the model"
   ]
  },
  {
   "cell_type": "code",
   "execution_count": 123,
   "id": "fcf30c6a",
   "metadata": {},
   "outputs": [
    {
     "name": "stdout",
     "output_type": "stream",
     "text": [
      "At cross fold 2 the cv score is 0.2848257660293039 and accuracy score for the training is -0.35213486056219834 and accuracy for the testing is 0.3193695830806884\n",
      "\n",
      "\n",
      "At cross fold 3 the cv score is 0.31157457784247927 and accuracy score for the training is -0.35213486056219834 and accuracy for the testing is 0.3193695830806884\n",
      "\n",
      "\n",
      "At cross fold 4 the cv score is 0.28719730030540386 and accuracy score for the training is -0.35213486056219834 and accuracy for the testing is 0.3193695830806884\n",
      "\n",
      "\n",
      "At cross fold 5 the cv score is 0.2900416288421971 and accuracy score for the training is -0.35213486056219834 and accuracy for the testing is 0.3193695830806884\n",
      "\n",
      "\n",
      "At cross fold 6 the cv score is 0.23454957393830297 and accuracy score for the training is -0.35213486056219834 and accuracy for the testing is 0.3193695830806884\n",
      "\n",
      "\n",
      "At cross fold 7 the cv score is 0.24947349742144848 and accuracy score for the training is -0.35213486056219834 and accuracy for the testing is 0.3193695830806884\n",
      "\n",
      "\n",
      "At cross fold 8 the cv score is 0.21815114893494938 and accuracy score for the training is -0.35213486056219834 and accuracy for the testing is 0.3193695830806884\n",
      "\n",
      "\n",
      "At cross fold 9 the cv score is 0.23763933720991975 and accuracy score for the training is -0.35213486056219834 and accuracy for the testing is 0.3193695830806884\n",
      "\n",
      "\n"
     ]
    }
   ],
   "source": [
    "Train_accuracy=r2_score(target_train,pred_train)\n",
    "Test_accuracy=r2_score(target_test,pred_test)\n",
    "\n",
    "from sklearn.model_selection import cross_val_score\n",
    "for j in range(2,10):\n",
    "    cv_score=cross_val_score(lr,features,target,cv=j)\n",
    "    cv_mean=cv_score.mean()\n",
    "    print(f\"At cross fold {j} the cv score is {cv_mean} and accuracy score for the training is {Train_accuracy} and accuracy for the testing is {Test_accuracy}\")\n",
    "    print(\"\\n\")"
   ]
  },
  {
   "cell_type": "markdown",
   "id": "1862c59f",
   "metadata": {},
   "source": [
    "since the number of folds don't have such impact on the accuracy and cv_score.So cv=5 is selected"
   ]
  },
  {
   "cell_type": "markdown",
   "id": "c7ad0d49",
   "metadata": {},
   "source": [
    "here we handle the problem of the overfiting and the under fiting by checking the training and testing score"
   ]
  },
  {
   "cell_type": "code",
   "execution_count": 128,
   "id": "a7d76809",
   "metadata": {},
   "outputs": [
    {
     "data": {
      "image/png": "[encoded data removed]",
      "text/plain": [
       "<Figure size 576x432 with 1 Axes>"
      ]
     },
     "metadata": {
      "needs_background": "light"
     },
     "output_type": "display_data"
    }
   ],
   "source": [
    "import matplotlib.pyplot as plt\n",
    "plt.figure(figsize=(8,6))\n",
    "plt.scatter(x=target_test, y=pred_test, color='r')\n",
    "plt.plot(target_test,target_test, color='b')\n",
    "plt.title('Linear Regression',fontsize=18)\n",
    "plt.savefig('lr.png')\n",
    "plt.show()"
   ]
  },
  {
   "cell_type": "markdown",
   "id": "4315deb6",
   "metadata": {},
   "source": [
    "Regularization"
   ]
  },
  {
   "cell_type": "code",
   "execution_count": 149,
   "id": "0c3e8abf",
   "metadata": {},
   "outputs": [],
   "source": [
    "from sklearn.model_selection import GridSearchCV\n",
    "from sklearn.model_selection import cross_val_score\n",
    "import warnings\n",
    "warnings.filterwarnings('ignore')"
   ]
  },
  {
   "cell_type": "code",
   "execution_count": null,
   "id": "d47f40d5",
   "metadata": {},
   "outputs": [],
   "source": [
    "from sklearn.linear_model import Lasso\n",
    "\n",
    "parameters = {'alpha':[.0001, .001, .01, .1, 1, 10],\n",
    "              'random_state':list(range(0,10))}\n",
    "ls = Lasso()\n",
    "clf = GirdSearchCV(ls,parameters)\n",
    "clf.fit(features_train,target_train)\n",
    "\n",
    "print(clf.best_parameters_)"
   ]
  },
  {
   "cell_type": "code",
   "execution_count": null,
   "id": "9be85bf4",
   "metadata": {},
   "outputs": [],
   "source": []
  }
 ],
 "metadata": {
  "kernelspec": {
   "display_name": "Python 3 (ipykernel)",
   "language": "python",
   "name": "python3"
  },
  "language_info": {
   "codemirror_mode": {
    "name": "ipython",
    "version": 3
   },
   "file_extension": ".py",
   "mimetype": "text/x-python",
   "name": "python",
   "nbconvert_exporter": "python",
   "pygments_lexer": "ipython3",
   "version": "3.9.7"
  }
 },
 "nbformat": 4,
 "nbformat_minor": 5
}
